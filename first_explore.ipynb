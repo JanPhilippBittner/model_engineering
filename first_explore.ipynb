{
 "cells": [
  {
   "cell_type": "code",
   "execution_count": null,
   "id": "6475eda7-0d35-4df3-af2f-da221413daa8",
   "metadata": {},
   "outputs": [],
   "source": [
    "import polars as pl\n",
    "import numpy as np\n",
    "import pyarrow as pa\n",
    "\n",
    "import mlflow\n",
    "import mlflow.sklearn\n",
    "from mlflow.models import infer_signature\n",
    "\n",
    "from polars_tools import down_cast_numeric_cols\n",
    "\n",
    "import matplotlib.pyplot as plt\n",
    "import seaborn as sns\n",
    "\n",
    "from sklearn.preprocessing import StandardScaler\n",
    "from sklearn.model_selection import train_test_split , GridSearchCV\n",
    "\n",
    "from sklearn.neighbors import KNeighborsClassifier\n",
    "from sklearn.naive_bayes import GaussianNB\n",
    "from sklearn import svm\n",
    "from sklearn.tree import DecisionTreeClassifier\n",
    "\n",
    "from sklearn.metrics import accuracy_score"
   ]
  },
  {
   "cell_type": "code",
   "execution_count": null,
   "id": "91df5eb9-4c2d-4f58-88fc-640a4a804780",
   "metadata": {},
   "outputs": [],
   "source": [
    "\"\"\"\n",
    "Notes\n",
    "\n",
    "Classifier models to investigate:\n",
    "- Logistic Regression\n",
    "- K-nearest neighbours\n",
    "- naive bayes\n",
    "- support vector\n",
    "- Decision Tree\n",
    "- Random Forest (isn't this enemble?)\n",
    "- Some interpretable ensemble (there is one in my notes)\n",
    "\"\"\""
   ]
  },
  {
   "cell_type": "code",
   "execution_count": null,
   "id": "83fc5e11-4452-48a7-a0dc-d0d5e1ec89ef",
   "metadata": {},
   "outputs": [],
   "source": [
    "lf = pl.scan_csv(r\"data.csv\")"
   ]
  },
  {
   "cell_type": "code",
   "execution_count": null,
   "id": "891d8fbf-d00f-4c41-a5b4-21740012fa8e",
   "metadata": {},
   "outputs": [],
   "source": [
    "lf = lf.collect().drop(pl.col(\"\")).lazy()"
   ]
  },
  {
   "cell_type": "markdown",
   "id": "be06f56b-dfea-4671-a975-29d7fa4fc19e",
   "metadata": {},
   "source": [
    "# Data Exploration"
   ]
  },
  {
   "cell_type": "markdown",
   "id": "5cbe1720-34d8-4929-9ec8-bb1348c531ea",
   "metadata": {},
   "source": [
    "## Basics (Epxloration)"
   ]
  },
  {
   "cell_type": "code",
   "execution_count": null,
   "id": "01ba0945-fc1c-422e-b0aa-7ce5115036b4",
   "metadata": {},
   "outputs": [],
   "source": [
    "lf.collect().shape"
   ]
  },
  {
   "cell_type": "code",
   "execution_count": null,
   "id": "49c6e497-2180-4d8d-8d07-407533979621",
   "metadata": {},
   "outputs": [],
   "source": [
    "lf.describe()"
   ]
  },
  {
   "cell_type": "markdown",
   "id": "6013f9e2-9e74-4cab-bbb3-1e1cd0f33533",
   "metadata": {},
   "source": [
    "## Show correlation matrix Heatmap"
   ]
  },
  {
   "cell_type": "code",
   "execution_count": null,
   "id": "99e32db0-8a64-4c56-82af-ca45bd4d90fa",
   "metadata": {},
   "outputs": [],
   "source": [
    "## re-lable the diagnosis\n",
    "lf = lf.with_columns(\n",
    "    (pl.when(pl.col(\"diagnosis\")==pl.lit('B')).then(1).otherwise(0)).alias(\"diagnosis\")\n",
    "               )"
   ]
  },
  {
   "cell_type": "code",
   "execution_count": null,
   "id": "1bf64656-3405-4d5a-9825-98ea8a94500f",
   "metadata": {},
   "outputs": [],
   "source": [
    "lf.collect()"
   ]
  },
  {
   "cell_type": "code",
   "execution_count": null,
   "id": "b616a9a5-ad30-459d-8770-9ae71b763685",
   "metadata": {},
   "outputs": [],
   "source": [
    "lf_no_id = lf.select(\n",
    "    pl.exclude([\"id\"])\n",
    ").collect()"
   ]
  },
  {
   "cell_type": "code",
   "execution_count": null,
   "id": "cc3c6e1d-6952-43be-8b79-264e6c1de2d7",
   "metadata": {},
   "outputs": [],
   "source": [
    "transformer = StandardScaler().fit(lf_no_id)\n",
    "transformer"
   ]
  },
  {
   "cell_type": "code",
   "execution_count": null,
   "id": "b26f6b43-6ec6-4a97-a37c-c4b80705d624",
   "metadata": {},
   "outputs": [],
   "source": [
    "trans_arr = transformer.transform(lf_no_id)\n",
    "#lf_scaled = pl.concat([lf.select(pl.col(\"diagnosis\")) ,  pl.LazyFrame(trans_arr , schema=df.columns)] ,how=\"horizontal\")\n",
    "lf_scaled = pl.LazyFrame(trans_arr , schema=lf_no_id.columns)\n",
    "\n",
    "df = lf_scaled.collect()"
   ]
  },
  {
   "cell_type": "code",
   "execution_count": null,
   "id": "c88b301f-3ab5-4a13-87c4-2cf6a139540c",
   "metadata": {},
   "outputs": [],
   "source": [
    "pl.concat([lf.select(pl.col(\"id\")),lf_scaled] , how=\"horizontal\").collect()"
   ]
  },
  {
   "cell_type": "code",
   "execution_count": null,
   "id": "859657e3-173c-4ff6-8354-f2359c32844d",
   "metadata": {},
   "outputs": [],
   "source": [
    "## Encoding:\n",
    "# Malingang: -1.297676\n",
    "# Benign: 0.770609\n",
    "\n",
    "\n",
    "# Findings: -Drop all features with less than 0.4 or -0.4 correlation.\n",
    "#           -Look at Multicolllinearity --> for those features that have high correlation with the target variable, check if they have high correlation with each other and then drop one of them\n",
    "df = lf_scaled.collect()\n",
    "\n",
    "# Correlation Matrix created by calculating covariance. This is possible because the dataset is standardized\n",
    "#covariance_matrix_unscaled = np.cov(df, rowvar=False)\n",
    "covariance_matrix = np.cov(df, rowvar=False) \n",
    "\n",
    "# Visualize the Covariance Matrix\n",
    "plt.figure(figsize=(100, 100), dpi=70) \n",
    "ax = sns.heatmap(covariance_matrix, annot=True, fmt=\".2f\", cmap='coolwarm', cbar=True , xticklabels=df.columns , yticklabels=df.columns)\n",
    "\n",
    "# Add labels and title\n",
    "plt.title(\"Correlation Matrix Heatmap\")\n",
    "plt.show()"
   ]
  },
  {
   "cell_type": "code",
   "execution_count": null,
   "id": "21c361aa-06a0-4d43-8dca-6cb8447ecf4f",
   "metadata": {},
   "outputs": [],
   "source": [
    "df.to_pandas()"
   ]
  },
  {
   "cell_type": "markdown",
   "id": "19f10682-04a4-4d96-a5c3-8c382805400a",
   "metadata": {},
   "source": [
    "## Pairplot"
   ]
  },
  {
   "cell_type": "raw",
   "id": "e3641cc5-4fe6-4671-97d3-5b5a781ced28",
   "metadata": {},
   "source": [
    "sns.pairplot(df.to_pandas() , hue=\"diagnosis\")"
   ]
  },
  {
   "cell_type": "markdown",
   "id": "2db724dd-bfb4-40b9-a7b1-3f4425543431",
   "metadata": {},
   "source": [
    "# Create Baseline Models"
   ]
  },
  {
   "cell_type": "markdown",
   "id": "ea1a4c4f-e707-422e-b354-40052cbf7ebe",
   "metadata": {},
   "source": [
    "### Create train-test split"
   ]
  },
  {
   "cell_type": "code",
   "execution_count": null,
   "id": "629db616-8673-473b-9d90-4f2994da9a40",
   "metadata": {},
   "outputs": [],
   "source": [
    "df = pl.concat([ lf.select(pl.col(\"diagnosis\")).collect() , df.select(pl.exclude([\"diagnosis\"]))] , how=\"horizontal\")"
   ]
  },
  {
   "cell_type": "code",
   "execution_count": null,
   "id": "7ba3c259-781c-427d-84d4-103f026d53c7",
   "metadata": {},
   "outputs": [],
   "source": [
    "X = df.select(\n",
    "    pl.exclude([\"diagnosis\"])\n",
    ")\n",
    "y = df.select(pl.col(\"diagnosis\"))\n",
    "\n",
    "X_train, X_test, y_train, y_test = train_test_split(X, y ,test_size=0.33, random_state=42)"
   ]
  },
  {
   "cell_type": "code",
   "execution_count": null,
   "id": "e24de939-e8f6-4b0f-8088-af322276aa29",
   "metadata": {},
   "outputs": [],
   "source": [
    "X_train = X_train.to_numpy()\n",
    "X_test = X_test.to_numpy()\n",
    "y_train = y_train.to_numpy()\n",
    "y_test = y_test.to_numpy()"
   ]
  },
  {
   "cell_type": "markdown",
   "id": "9417b69b-7296-4bfd-a9da-022dd32a042c",
   "metadata": {},
   "source": [
    "### K-Nearest Neighbor"
   ]
  },
  {
   "cell_type": "raw",
   "id": "2ae1d252-3853-40ac-b779-af60cda51959",
   "metadata": {},
   "source": [
    "# Initialize Classifier wiht k=3 neighbors\n",
    "neigh = KNeighborsClassifier(n_neighbors=3)\n",
    "    \n",
    "# Train the model\n",
    "neigh.fit(X_train, y_train)\n",
    "    \n",
    "# Make predictions\n",
    "y_pred = neigh.predict(X_test)\n",
    "    \n",
    "# Calculate accuracy score based on output predictions\n",
    "knn_accuracy = accuracy_score(y_test, y_pred)\n",
    "print(\"K-Nearest Neighbor basline accuracy is: \" , knn_accuracy)\n",
    "\n",
    "\n",
    "\"\"\"\n",
    "# Start MLflow experiment\n",
    "mlflow.set_experiment(\"Breast Cancer Classification\")\n",
    "\n",
    "with mlflow.start_run(run_name=\"KNN Baseline Model\"):\n",
    "    \n",
    "\n",
    "    # Log model parameters and result\n",
    "    mlflow.log_param(\"n_neihgbors\" , 3)\n",
    "    mlflow.log_metric(\"accuracy\" , accuracy)\n",
    "\n",
    "    # Log a tag as explanation\n",
    "    mlflow.set_tag(\"Training info\" , \"Baseline Model, basic KNN model, standardized data\")\n",
    "\n",
    "    # Log the trained model\n",
    "    model_signature= infer_signature(X_train , y_pred)\n",
    "    mlflow.sklearn.log_model(neigh , registered_model_name=\"K-Nearest Neighbor Model\" , artifact_path=\"sklearn-model\"  ,signature=model_signature)\n",
    "\n",
    "    mlflow.end_run()\n",
    "\"\"\""
   ]
  },
  {
   "cell_type": "markdown",
   "id": "7bb0f09b-230e-46c4-923b-7f043ea2ca1c",
   "metadata": {},
   "source": [
    "### Naive Bayes"
   ]
  },
  {
   "cell_type": "raw",
   "id": "57abab54-c6fa-4275-a1fa-da383ae75049",
   "metadata": {},
   "source": [
    "# Initialize the Gaussian Naives Bayes\n",
    "gnb = GaussianNB()\n",
    "\n",
    "# Train the model\n",
    "gnb.fit(X_train , y_train)\n",
    "\n",
    "# Make prediction\n",
    "y_pred = gnb.predict(X_test)\n",
    "\n",
    "# Calculate accuracy score based on output predictions\n",
    "gnb_accuracy = accuracy_score(y_test, y_pred)\n",
    "print(\"K-Nearest Neighbor basline accuracy is: \" , gnb_accuracy)\n",
    "\n",
    "\n",
    "\"\"\"\n",
    "# Start MLflow experiment\n",
    "mlflow.set_experiment(\"Breast Cancer Classification\")\n",
    "\n",
    "with mlflow.start_run(run_name=\"Gaussian Naive Bayes Baseline Model\"):\n",
    "    \n",
    "\n",
    "    # Log model parameters and result\n",
    "    mlflow.log_param(\"Type of Naives\" , \"Gaussian\")\n",
    "    mlflow.log_metric(\"accuracy\" , accuracy)\n",
    "\n",
    "    # Log a tag as explanation\n",
    "    mlflow.set_tag(\"Training info\" , \"Baseline Model, basic Gaussian Naives Bayes model, standardized data\")\n",
    "\n",
    "    # Log the trained model\n",
    "    mlflow.sklearn.log_model(gnb , \"Gaussian Naivey Bayes Model\" , signature=model_signature)\n",
    "\n",
    "    mlflow.end_run()\n",
    "\"\"\""
   ]
  },
  {
   "cell_type": "markdown",
   "id": "d9979b53-2174-4fc6-aeda-7bdd27ac8f2e",
   "metadata": {},
   "source": [
    "### Support Vector Machines"
   ]
  },
  {
   "cell_type": "raw",
   "id": "650b558a-bdce-45b9-bc53-1ca7b51ac66e",
   "metadata": {},
   "source": [
    "# Initialize the Support vector machine\n",
    "clf = svm.SVC()\n",
    "\n",
    "# Train the model\n",
    "clf.fit(X_train , y_train)\n",
    "\n",
    "# Make prediction\n",
    "y_pred = clf.predict(X_test)\n",
    "\n",
    "# Calculate accuracy score based on output predictions\n",
    "svm_accuracy = accuracy_score(y_test, y_pred)\n",
    "print(\"K-Nearest Neighbor basline accuracy is: \" , svm_accuracy)\n",
    "\n",
    "\"\"\"\n",
    "# Start MLflow experiment\n",
    "mlflow.set_experiment(\"Breast Cancer Classification\")\n",
    "\n",
    "with mlflow.start_run(run_name=\"Support Vector Machine Baseline Model\"):\n",
    "    \n",
    "\n",
    "    # Log model parameters and result\n",
    "    mlflow.log_param(\"Type of SVM\" , \"SVC\")\n",
    "    mlflow.log_metric(\"accuracy\" , accuracy)\n",
    "\n",
    "    # Log a tag as explanation\n",
    "    mlflow.set_tag(\"Training info\" , \"Baseline Model, basic Support Vector Machine model, standardized data\")\n",
    "\n",
    "    # Log the trained model\n",
    "    model_signature= infer_signature(X_train , y_pred)\n",
    "    mlflow.sklearn.log_model(clf , \"C-Support Vector Machine Classifier\" , signature=model_signature)\n",
    "\n",
    "    mlflow.end_run()\n",
    "\"\"\""
   ]
  },
  {
   "cell_type": "markdown",
   "id": "a8398bbb-c725-44e7-b9ff-ab35f6a0812a",
   "metadata": {},
   "source": [
    "### Decision Tree"
   ]
  },
  {
   "cell_type": "raw",
   "id": "235ccc2c-cc0c-4843-a7cd-3d2548476850",
   "metadata": {},
   "source": [
    "# Initialize the Decision tree Classifier\n",
    "tree_clf = DecisionTreeClassifier(random_state=42)\n",
    "\n",
    "# Train the model\n",
    "tree_clf.fit(X_train, y_train)\n",
    "\n",
    "# Make prediction\n",
    "y_pred = tree_clf.predict(X_test)\n",
    "\n",
    "# Calculate accuracy score based on output predictions\n",
    "dtc_accuracy = accuracy_score(y_test, y_pred)\n",
    "print(\"Decision Tree baseline accuracy is:\", dtc_accuracy)\n",
    "\n",
    "\"\"\"\n",
    "# Start MLflow experiment\n",
    "mlflow.set_experiment(\"Breast Cancer Classification\")\n",
    "\n",
    "with mlflow.start_run(run_name=\"Decision Tree Classifier Baseline Model\"):\n",
    "    \n",
    "\n",
    "    # Log model parameters and result\n",
    "    mlflow.log_param(\"random_state\" , 42)\n",
    "    mlflow.log_metric(\"accuracy\" , accuracy)\n",
    "\n",
    "    # Log a tag as explanation\n",
    "    mlflow.set_tag(\"Training info\" , \"Baseline Model, basic Decision Tree Classiifer model, standardized data\")\n",
    "\n",
    "    # Log the trained model\n",
    "    model_signature= infer_signature(X_train , y_pred)\n",
    "    mlflow.sklearn.log_model(tree_clf , \"Decision Tree Classifier\" , signature=model_signature)\n",
    "\n",
    "    mlflow.end_run()\n",
    "\"\"\""
   ]
  },
  {
   "cell_type": "markdown",
   "id": "332affd2-25e5-4996-9d15-5c0377ccb95c",
   "metadata": {},
   "source": [
    "### One big run"
   ]
  },
  {
   "cell_type": "raw",
   "id": "500fc9bf-1440-406e-98dd-32891d118ea2",
   "metadata": {},
   "source": [
    "mlflow.set_experiment(\"Breast Cancer Classification\")\n",
    "with mlflow.start_run(run_name=\"Baseline Models___EXTENDED\"):\n",
    "\n",
    "    # Log a tag as explanation\n",
    "    mlflow.set_tag(\"Training info\" , \"Baseline Model, standardized data\")\n",
    "    model_signature= infer_signature(X_train , y_pred)\n",
    "\n",
    "    \n",
    "    # KNB\n",
    "    # Log model parameters and result\n",
    "    mlflow.log_param(\"knn_parameters\" , neigh.get_params())\n",
    "    mlflow.log_metric(\"knn_accuracy\" , knn_accuracy)\n",
    "    # Log the trained model\n",
    "    mlflow.sklearn.log_model(neigh , registered_model_name=\"K-Nearest Neighbor Model\" , artifact_path=\"sklearn-model1\"  ,signature=model_signature)\n",
    "\n",
    "\n",
    "    # GNB\n",
    "    # Log model parameters and result\n",
    "    mlflow.log_param(\"gnb_parameters\" , gnb.get_params())\n",
    "    mlflow.log_metric(\"gnb_accuracy\" , gnb_accuracy)\n",
    "    # Log the trained model\n",
    "    mlflow.sklearn.log_model(gnb , registered_model_name=\"Gaussian Naivey Bayes Model\" , artifact_path=\"sklearn-model2\", signature=model_signature)\n",
    "\n",
    "\n",
    "    #SVC\n",
    "    # Log model parameters and result\n",
    "    mlflow.log_param(\"svc_parameters\" , clf.get_params())\n",
    "    mlflow.log_metric(\"svc_accuracy\" , svm_accuracy)\n",
    "    # Log the trained model\n",
    "    mlflow.sklearn.log_model(clf , registered_model_name=\"C-Support Vector Machine Classifier\", artifact_path=\"sklearn-model3\" , signature=model_signature)\n",
    "\n",
    "\n",
    "    # DTC\n",
    "    # Log model parameters and result\n",
    "    mlflow.log_param(\"dtc_parameters\" , tree_clf.get_params())\n",
    "    mlflow.log_metric(\"dtc_accuracy\" , dtc_accuracy)\n",
    "    # Log the trained model\n",
    "    mlflow.sklearn.log_model(tree_clf , registered_model_name=\"Decision Tree Classifier\", artifact_path=\"sklearn-model4\" , signature=model_signature)\n",
    "    \n",
    "    mlflow.end_run()\n",
    "    print(\"Run ended\")"
   ]
  },
  {
   "cell_type": "markdown",
   "id": "ae58ccf2-5999-4437-975b-2c5abee59188",
   "metadata": {},
   "source": [
    "# Grid Search"
   ]
  },
  {
   "cell_type": "markdown",
   "id": "22750c09-8781-4801-a69e-3af7fe580c65",
   "metadata": {},
   "source": [
    "### KNN"
   ]
  },
  {
   "cell_type": "raw",
   "id": "1d69e9fb-8499-4102-9134-4a5cee941763",
   "metadata": {},
   "source": [
    "# Define hyperparameter grid for KNN\n",
    "#, \"p\":[1,2,3]\n",
    "knn_param_grid = {\"algorithm\":[\"brute\", \"ball_tree\" ,\"kd_tree\"],\n",
    "                  \"leaf_size\" : [30 , 20 ,10 ,40 ,50 ,60 , 70 ,80 ,90 ,10],\n",
    "                  \"metric\" : [\"minkowski\"],\n",
    "                  \"metric_params\" : [None],\n",
    "                  \"n_jobs\" : [None],\n",
    "                  \"n_neighbors\": [1,2,3, 5, 7, 9, 11, 15],\n",
    "                  \"p\":[1,2,3 ,4 ,5 ,6],\n",
    "                  \"weights\": ['uniform' , 'distance']\n",
    "                 }\n",
    "\n",
    "# Initialize KNN model\n",
    "knn_grid = KNeighborsClassifier()\n",
    "\n",
    "# Perform Grid Search with 5-fold cross-validation\n",
    "knn_grid_search = GridSearchCV(knn_grid, knn_param_grid, cv=5, scoring=\"accuracy\", n_jobs=-1)\n",
    "knn_grid_search.fit(X_train, y_train.ravel())  # Train the model\n",
    "\n",
    "# Get the best model and parameters\n",
    "knn_best_knn = knn_grid_search.best_estimator_\n",
    "knn_best_params = knn_grid_search.best_params_\n",
    "knn_best_accuracy = knn_grid_search.best_score_\n",
    "\n",
    "\n",
    "print(f\"Best KNN Parameters: {knn_best_params}\")\n",
    "print(f\"Best Cross-Validation Accuracy: {knn_best_accuracy:.4f}\")"
   ]
  },
  {
   "cell_type": "markdown",
   "id": "459627c2-44e9-4664-a1c8-12d57fd04efc",
   "metadata": {},
   "source": [
    "### Gaussian Naive Bayes"
   ]
  },
  {
   "cell_type": "raw",
   "id": "95ebe2dc-34cb-4217-b13d-df04bb82005b",
   "metadata": {},
   "source": [
    "gnb_param_grid = {\n",
    "    \"priors\" : [None],\n",
    "    \"var_smoothing\": [1e-9, 1e-8, 1e-7, 1e-6]\n",
    "}\n",
    "\n",
    "gnb_grid = GaussianNB()\n",
    "gnb_grid_search = GridSearchCV(gnb_grid, gnb_param_grid, cv=5, scoring=\"accuracy\", n_jobs=-1)\n",
    "gnb_grid_search.fit(X_train, y_train.ravel())\n",
    "\n",
    "gnb_best_nb = gnb_grid_search.best_estimator_\n",
    "gnb_best_params = gnb_grid_search.best_params_\n",
    "gnb_best_accuracy = gnb_grid_search.best_score_\n",
    "\n",
    "print(f\"Best Naive Bayes Parameters: {gnb_best_params}\")\n",
    "print(f\"Best Cross-Validation Accuracy: {gnb_best_accuracy:.4f}\")"
   ]
  },
  {
   "cell_type": "markdown",
   "id": "7bce01bf-b61c-48af-b976-0af59e5480e4",
   "metadata": {},
   "source": [
    "### Support Vector Machine"
   ]
  },
  {
   "cell_type": "raw",
   "id": "32d6af4e-4e6a-4086-a154-2f5e5324c642",
   "metadata": {},
   "source": [
    "svm_param_grid = {\n",
    "    \"C\": [0.1,0.3, 0.5 ,0.7, 1, 10 , 100],\n",
    "    'break_ties' : [False, True],\n",
    "    'cache_size' : [200],\n",
    "    \"class_weight\" : [None],\n",
    "    \"coef0\" : [0.0 , 0.1 , 0.2 , 0.3 , 0.4 ,0.5 ,0.6, 0.7],\n",
    "    \"decision_function_shape\" : [\"ovo\" , \"ovr\"],\n",
    "    \"degree\" : [1,2,3,4,5,6],\n",
    "    \"gamma\" : [\"scale\" , \"auto\"],\n",
    "    \"kernel\": [\"linear\", \"rbf\", \"poly\" , \"sigmoid\"],\n",
    "    \"max_iter\" : [-1],\n",
    "    \"probability\" : [False, True],\n",
    "    \"random_state\" : [None],\n",
    "    \"shrinking\" : [False, True],\n",
    "    \"tol\": [0.001],\n",
    "    \"verbose\": [False]\n",
    "}\n",
    "\n",
    "grid_svm_clf = svm.SVC()\n",
    "svm_grid_search = GridSearchCV(grid_svm_clf, svm_param_grid, cv=5, scoring=\"accuracy\", n_jobs=-1)\n",
    "svm_grid_search.fit(X_train, y_train.ravel())\n",
    "\n",
    "svm_best_svm = svm_grid_search.best_estimator_\n",
    "svm_best_params = svm_grid_search.best_params_\n",
    "svm_best_accuracy = svm_grid_search.best_score_\n",
    "\n",
    "print(f\"Best Decision Tree Parameters: {svm_best_params}\")\n",
    "print(f\"Best Cross-Validation Accuracy: {svm_best_accuracy:.4f}\")"
   ]
  },
  {
   "cell_type": "markdown",
   "id": "f0f0d865-4b47-4552-8a60-21db4d627096",
   "metadata": {},
   "source": [
    "### Decision Tree Classifier"
   ]
  },
  {
   "cell_type": "raw",
   "id": "e851ca18-b8b9-40c5-804f-5398036ae490",
   "metadata": {},
   "source": [
    "dtc_param_grid = {\n",
    "    \"ccp_alpha\": [0.0],\n",
    "    \"class_weight\": [None],\n",
    "    \"criterion\": [\"gini\" , \"entropy\" , \"log_loss\"],\n",
    "    \"max_depth\" : [None , 1, 2, 3, 4, 5, 6 ,7 ,8 ,9 ,10 ],\n",
    "    \"max_features\": [None],\n",
    "    \"max_leaf_nodes\": [None],\n",
    "    \"min_impurity_decrease\": [0.0],\n",
    "    \"min_samples_leaf\" : [1 ,2 ,3 ,4, 5,],\n",
    "    \"min_samples_split\" : [2 , 3 , 4 , 5 , 6, 7, 8, 9, 10],\n",
    "    \"min_weight_fraction_leaf\" : [0.0 , 0.1 , 0.2 , 0.3 , 0.4 , 0.5],\n",
    "    \"monotonic_cst\": [None],\n",
    "    \"random_state\" : [42 , 50 , 60 , 20 ,15 , 30 ,70],\n",
    "    \"splitter\" : [\"best\" , \"random\"]\n",
    "}\n",
    "\n",
    "tree_grid = DecisionTreeClassifier(random_state=42)\n",
    "tree_grid_search = GridSearchCV(tree_grid, dtc_param_grid, cv=5, scoring=\"accuracy\", n_jobs=-1)\n",
    "tree_grid_search.fit(X_train, y_train.ravel())\n",
    "\n",
    "grid_best_tree = tree_grid_search.best_estimator_\n",
    "tree_grid_best_params = tree_grid_search.best_params_\n",
    "tree_grid_best_accuracy = tree_grid_search.best_score_\n",
    "\n",
    "print(f\"Best Decision Tree Parameters: {tree_grid_best_params}\")\n",
    "print(f\"Best Cross-Validation Accuracy: {tree_grid_best_accuracy:.4f}\")"
   ]
  },
  {
   "cell_type": "raw",
   "id": "ae144153-d08b-4bdf-b589-3eb739164b75",
   "metadata": {},
   "source": [
    "mlflow.set_experiment(\"Breast Cancer Classification\")\n",
    "with mlflow.start_run(run_name=\"Grid Search enhanced Models\"):\n",
    "\n",
    "    # Log a tag as explanation\n",
    "    mlflow.set_tag(\"Training info\" , \"Grid Search enhanced Models, standardized data\")\n",
    "    # Model signature\n",
    "    model_signature= infer_signature(X_train , y_pred)\n",
    "\n",
    "    \n",
    "    \n",
    "    # KNB\n",
    "    # Log model parameters and result\n",
    "    mlflow.log_param(\"knn_parameters\" , knn_best_params)\n",
    "    mlflow.log_metric(\"knn_accuracy\" , knn_best_accuracy)\n",
    "    # Log the trained model\n",
    "    mlflow.sklearn.log_model(knn_grid , registered_model_name=\"K-Nearest Neighbor Model\" , artifact_path=\"sklearn-model1_1\"  ,signature=model_signature)\n",
    "\n",
    "\n",
    "    # GNB\n",
    "    # Log model parameters and result\n",
    "    mlflow.log_param(\"gnb_parameters\" , gnb_best_params)\n",
    "    mlflow.log_metric(\"gnb_accuracy\" , gnb_best_accuracy)\n",
    "    # Log the trained model\n",
    "    mlflow.sklearn.log_model(gnb_grid , registered_model_name=\"Gaussian Naive Bayes Model\" , artifact_path=\"sklearn-model2_1\", signature=model_signature)\n",
    "\n",
    "    \n",
    "    #SVC\n",
    "    # Log model parameters and result\n",
    "    mlflow.log_param(\"svc_parameters\" , svm_best_params)\n",
    "    mlflow.log_metric(\"svc_accuracy\" , svm_best_accuracy)\n",
    "    # Log the trained model\n",
    "    mlflow.sklearn.log_model(grid_svm_clf , registered_model_name=\"C-Support Vector Machine Classifier\", artifact_path=\"sklearn-model3_1\" , signature=model_signature)\n",
    "\n",
    "    \n",
    "    # DTC\n",
    "    # Log model parameters and result\n",
    "    mlflow.log_param(\"dtc_parameters\" , tree_grid_best_params)\n",
    "    mlflow.log_metric(\"dtc_accuracy\" , tree_grid_best_accuracy)\n",
    "    # Log the trained model\n",
    "    mlflow.sklearn.log_model(tree_grid , registered_model_name=\"Decision Tree Classifier\", artifact_path=\"sklearn-model4_4\" , signature=model_signature)\n",
    "\n",
    "\n",
    "\n",
    "    \n",
    "    mlflow.end_run()\n",
    "    print(\"Run ended\")"
   ]
  },
  {
   "cell_type": "markdown",
   "id": "9694c2c0-cf67-4971-a389-78187212b479",
   "metadata": {},
   "source": [
    "# Additional Data Cleaning"
   ]
  },
  {
   "cell_type": "code",
   "execution_count": null,
   "id": "19fc2920-4256-4e8f-a9c1-064831bcd927",
   "metadata": {},
   "outputs": [],
   "source": []
  }
 ],
 "metadata": {
  "kernelspec": {
   "display_name": "Python 3 (ipykernel)",
   "language": "python",
   "name": "python3"
  },
  "language_info": {
   "codemirror_mode": {
    "name": "ipython",
    "version": 3
   },
   "file_extension": ".py",
   "mimetype": "text/x-python",
   "name": "python",
   "nbconvert_exporter": "python",
   "pygments_lexer": "ipython3",
   "version": "3.10.16"
  }
 },
 "nbformat": 4,
 "nbformat_minor": 5
}
