{
 "cells": [
  {
   "cell_type": "code",
   "execution_count": 1,
   "id": "6475eda7-0d35-4df3-af2f-da221413daa8",
   "metadata": {},
   "outputs": [],
   "source": [
    "import polars as pl\n",
    "import numpy as np\n",
    "import pyarrow as pa\n",
    "\n",
    "import mlflow\n",
    "import mlflow.sklearn\n",
    "from mlflow.models import infer_signature\n",
    "\n",
    "from polars_tools import down_cast_numeric_cols\n",
    "\n",
    "import matplotlib.pyplot as plt\n",
    "import seaborn as sns\n",
    "\n",
    "from sklearn.preprocessing import StandardScaler\n",
    "from sklearn.model_selection import train_test_split , GridSearchCV\n",
    "\n",
    "from sklearn.neighbors import KNeighborsClassifier\n",
    "from sklearn.naive_bayes import GaussianNB\n",
    "from sklearn import svm\n",
    "from sklearn.tree import DecisionTreeClassifier\n",
    "\n",
    "from sklearn.metrics import accuracy_score"
   ]
  },
  {
   "cell_type": "code",
   "execution_count": 2,
   "id": "91df5eb9-4c2d-4f58-88fc-640a4a804780",
   "metadata": {},
   "outputs": [
    {
     "data": {
      "text/plain": [
       "\"\\nNotes\\n\\nClassifier models to investigate:\\n- Logistic Regression\\n- K-nearest neighbours\\n- naive bayes\\n- support vector\\n- Decision Tree\\n- Random Forest (isn't this enemble?)\\n- Some interpretable ensemble (there is one in my notes)\\n\""
      ]
     },
     "execution_count": 2,
     "metadata": {},
     "output_type": "execute_result"
    }
   ],
   "source": [
    "\"\"\"\n",
    "Notes\n",
    "\n",
    "Classifier models to investigate:\n",
    "- Logistic Regression\n",
    "- K-nearest neighbours\n",
    "- naive bayes\n",
    "- support vector\n",
    "- Decision Tree\n",
    "- Random Forest (isn't this enemble?)\n",
    "- Some interpretable ensemble (there is one in my notes)\n",
    "\"\"\""
   ]
  },
  {
   "cell_type": "code",
   "execution_count": 3,
   "id": "83fc5e11-4452-48a7-a0dc-d0d5e1ec89ef",
   "metadata": {},
   "outputs": [],
   "source": [
    "lf = pl.scan_csv(r\"data.csv\")"
   ]
  },
  {
   "cell_type": "code",
   "execution_count": 4,
   "id": "891d8fbf-d00f-4c41-a5b4-21740012fa8e",
   "metadata": {},
   "outputs": [],
   "source": [
    "lf = lf.collect().drop(pl.col(\"\")).lazy()"
   ]
  },
  {
   "cell_type": "markdown",
   "id": "be06f56b-dfea-4671-a975-29d7fa4fc19e",
   "metadata": {},
   "source": [
    "# Data Exploration"
   ]
  },
  {
   "cell_type": "markdown",
   "id": "5cbe1720-34d8-4929-9ec8-bb1348c531ea",
   "metadata": {},
   "source": [
    "## Basics (Epxloration)"
   ]
  },
  {
   "cell_type": "code",
   "execution_count": 5,
   "id": "01ba0945-fc1c-422e-b0aa-7ce5115036b4",
   "metadata": {},
   "outputs": [
    {
     "data": {
      "text/plain": [
       "(569, 32)"
      ]
     },
     "execution_count": 5,
     "metadata": {},
     "output_type": "execute_result"
    }
   ],
   "source": [
    "lf.collect().shape"
   ]
  },
  {
   "cell_type": "code",
   "execution_count": 6,
   "id": "49c6e497-2180-4d8d-8d07-407533979621",
   "metadata": {},
   "outputs": [
    {
     "data": {
      "text/html": [
       "<div><style>\n",
       ".dataframe > thead > tr,\n",
       ".dataframe > tbody > tr {\n",
       "  text-align: right;\n",
       "  white-space: pre-wrap;\n",
       "}\n",
       "</style>\n",
       "<small>shape: (9, 33)</small><table border=\"1\" class=\"dataframe\"><thead><tr><th>statistic</th><th>id</th><th>diagnosis</th><th>radius_mean</th><th>texture_mean</th><th>perimeter_mean</th><th>area_mean</th><th>smoothness_mean</th><th>compactness_mean</th><th>concavity_mean</th><th>concave points_mean</th><th>symmetry_mean</th><th>fractal_dimension_mean</th><th>radius_se</th><th>texture_se</th><th>perimeter_se</th><th>area_se</th><th>smoothness_se</th><th>compactness_se</th><th>concavity_se</th><th>concave points_se</th><th>symmetry_se</th><th>fractal_dimension_se</th><th>radius_worst</th><th>texture_worst</th><th>perimeter_worst</th><th>area_worst</th><th>smoothness_worst</th><th>compactness_worst</th><th>concavity_worst</th><th>concave points_worst</th><th>symmetry_worst</th><th>fractal_dimension_worst</th></tr><tr><td>str</td><td>f64</td><td>str</td><td>f64</td><td>f64</td><td>f64</td><td>f64</td><td>f64</td><td>f64</td><td>f64</td><td>f64</td><td>f64</td><td>f64</td><td>f64</td><td>f64</td><td>f64</td><td>f64</td><td>f64</td><td>f64</td><td>f64</td><td>f64</td><td>f64</td><td>f64</td><td>f64</td><td>f64</td><td>f64</td><td>f64</td><td>f64</td><td>f64</td><td>f64</td><td>f64</td><td>f64</td><td>f64</td></tr></thead><tbody><tr><td>&quot;count&quot;</td><td>569.0</td><td>&quot;569&quot;</td><td>569.0</td><td>569.0</td><td>569.0</td><td>569.0</td><td>569.0</td><td>569.0</td><td>569.0</td><td>569.0</td><td>569.0</td><td>569.0</td><td>569.0</td><td>569.0</td><td>569.0</td><td>569.0</td><td>569.0</td><td>569.0</td><td>569.0</td><td>569.0</td><td>569.0</td><td>569.0</td><td>569.0</td><td>569.0</td><td>569.0</td><td>569.0</td><td>569.0</td><td>569.0</td><td>569.0</td><td>569.0</td><td>569.0</td><td>569.0</td></tr><tr><td>&quot;null_count&quot;</td><td>0.0</td><td>&quot;0&quot;</td><td>0.0</td><td>0.0</td><td>0.0</td><td>0.0</td><td>0.0</td><td>0.0</td><td>0.0</td><td>0.0</td><td>0.0</td><td>0.0</td><td>0.0</td><td>0.0</td><td>0.0</td><td>0.0</td><td>0.0</td><td>0.0</td><td>0.0</td><td>0.0</td><td>0.0</td><td>0.0</td><td>0.0</td><td>0.0</td><td>0.0</td><td>0.0</td><td>0.0</td><td>0.0</td><td>0.0</td><td>0.0</td><td>0.0</td><td>0.0</td></tr><tr><td>&quot;mean&quot;</td><td>3.0372e7</td><td>null</td><td>14.127292</td><td>19.289649</td><td>91.969033</td><td>654.889104</td><td>0.09636</td><td>0.104341</td><td>0.088799</td><td>0.048919</td><td>0.181162</td><td>0.062798</td><td>0.405172</td><td>1.216853</td><td>2.866059</td><td>40.337079</td><td>0.007041</td><td>0.025478</td><td>0.031894</td><td>0.011796</td><td>0.020542</td><td>0.003795</td><td>16.26919</td><td>25.677223</td><td>107.261213</td><td>880.583128</td><td>0.132369</td><td>0.254265</td><td>0.272188</td><td>0.114606</td><td>0.290076</td><td>0.083946</td></tr><tr><td>&quot;std&quot;</td><td>1.2502e8</td><td>null</td><td>3.524049</td><td>4.301036</td><td>24.298981</td><td>351.914129</td><td>0.014064</td><td>0.052813</td><td>0.07972</td><td>0.038803</td><td>0.027414</td><td>0.00706</td><td>0.277313</td><td>0.551648</td><td>2.021855</td><td>45.491006</td><td>0.003003</td><td>0.017908</td><td>0.030186</td><td>0.00617</td><td>0.008266</td><td>0.002646</td><td>4.833242</td><td>6.146258</td><td>33.602542</td><td>569.356993</td><td>0.022832</td><td>0.157336</td><td>0.208624</td><td>0.065732</td><td>0.061867</td><td>0.018061</td></tr><tr><td>&quot;min&quot;</td><td>8670.0</td><td>&quot;B&quot;</td><td>6.981</td><td>9.71</td><td>43.79</td><td>143.5</td><td>0.05263</td><td>0.01938</td><td>0.0</td><td>0.0</td><td>0.106</td><td>0.04996</td><td>0.1115</td><td>0.3602</td><td>0.757</td><td>6.802</td><td>0.001713</td><td>0.002252</td><td>0.0</td><td>0.0</td><td>0.007882</td><td>0.0008948</td><td>7.93</td><td>12.02</td><td>50.41</td><td>185.2</td><td>0.07117</td><td>0.02729</td><td>0.0</td><td>0.0</td><td>0.1565</td><td>0.05504</td></tr><tr><td>&quot;25%&quot;</td><td>869218.0</td><td>null</td><td>11.7</td><td>16.17</td><td>75.17</td><td>420.3</td><td>0.08637</td><td>0.06492</td><td>0.02956</td><td>0.02031</td><td>0.1619</td><td>0.0577</td><td>0.2324</td><td>0.8339</td><td>1.606</td><td>17.85</td><td>0.005169</td><td>0.01308</td><td>0.01509</td><td>0.007638</td><td>0.01516</td><td>0.002248</td><td>13.01</td><td>21.08</td><td>84.11</td><td>515.3</td><td>0.1166</td><td>0.1472</td><td>0.1145</td><td>0.06493</td><td>0.2504</td><td>0.07146</td></tr><tr><td>&quot;50%&quot;</td><td>906024.0</td><td>null</td><td>13.37</td><td>18.84</td><td>86.24</td><td>551.1</td><td>0.09587</td><td>0.09263</td><td>0.06154</td><td>0.0335</td><td>0.1792</td><td>0.06154</td><td>0.3242</td><td>1.108</td><td>2.287</td><td>24.53</td><td>0.00638</td><td>0.02045</td><td>0.02589</td><td>0.01093</td><td>0.01873</td><td>0.003187</td><td>14.97</td><td>25.41</td><td>97.66</td><td>686.5</td><td>0.1313</td><td>0.2119</td><td>0.2267</td><td>0.09993</td><td>0.2822</td><td>0.08004</td></tr><tr><td>&quot;75%&quot;</td><td>8.813129e6</td><td>null</td><td>15.78</td><td>21.8</td><td>104.1</td><td>782.7</td><td>0.1053</td><td>0.1304</td><td>0.1307</td><td>0.074</td><td>0.1957</td><td>0.06612</td><td>0.4789</td><td>1.474</td><td>3.357</td><td>45.19</td><td>0.008146</td><td>0.03245</td><td>0.04205</td><td>0.01471</td><td>0.02348</td><td>0.004558</td><td>18.79</td><td>29.72</td><td>125.4</td><td>1084.0</td><td>0.146</td><td>0.3391</td><td>0.3829</td><td>0.1614</td><td>0.3179</td><td>0.09208</td></tr><tr><td>&quot;max&quot;</td><td>9.11320502e8</td><td>&quot;M&quot;</td><td>28.11</td><td>39.28</td><td>188.5</td><td>2501.0</td><td>0.1634</td><td>0.3454</td><td>0.4268</td><td>0.2012</td><td>0.304</td><td>0.09744</td><td>2.873</td><td>4.885</td><td>21.98</td><td>542.2</td><td>0.03113</td><td>0.1354</td><td>0.396</td><td>0.05279</td><td>0.07895</td><td>0.02984</td><td>36.04</td><td>49.54</td><td>251.2</td><td>4254.0</td><td>0.2226</td><td>1.058</td><td>1.252</td><td>0.291</td><td>0.6638</td><td>0.2075</td></tr></tbody></table></div>"
      ],
      "text/plain": [
       "shape: (9, 33)\n",
       "┌────────────┬──────────────┬───────────┬─────────────┬───┬───────────────┬──────────────┬──────────────┬──────────────┐\n",
       "│ statistic  ┆ id           ┆ diagnosis ┆ radius_mean ┆ … ┆ concavity_wor ┆ concave      ┆ symmetry_wor ┆ fractal_dime │\n",
       "│ ---        ┆ ---          ┆ ---       ┆ ---         ┆   ┆ st            ┆ points_worst ┆ st           ┆ nsion_worst  │\n",
       "│ str        ┆ f64          ┆ str       ┆ f64         ┆   ┆ ---           ┆ ---          ┆ ---          ┆ ---          │\n",
       "│            ┆              ┆           ┆             ┆   ┆ f64           ┆ f64          ┆ f64          ┆ f64          │\n",
       "╞════════════╪══════════════╪═══════════╪═════════════╪═══╪═══════════════╪══════════════╪══════════════╪══════════════╡\n",
       "│ count      ┆ 569.0        ┆ 569       ┆ 569.0       ┆ … ┆ 569.0         ┆ 569.0        ┆ 569.0        ┆ 569.0        │\n",
       "│ null_count ┆ 0.0          ┆ 0         ┆ 0.0         ┆ … ┆ 0.0           ┆ 0.0          ┆ 0.0          ┆ 0.0          │\n",
       "│ mean       ┆ 3.0372e7     ┆ null      ┆ 14.127292   ┆ … ┆ 0.272188      ┆ 0.114606     ┆ 0.290076     ┆ 0.083946     │\n",
       "│ std        ┆ 1.2502e8     ┆ null      ┆ 3.524049    ┆ … ┆ 0.208624      ┆ 0.065732     ┆ 0.061867     ┆ 0.018061     │\n",
       "│ min        ┆ 8670.0       ┆ B         ┆ 6.981       ┆ … ┆ 0.0           ┆ 0.0          ┆ 0.1565       ┆ 0.05504      │\n",
       "│ 25%        ┆ 869218.0     ┆ null      ┆ 11.7        ┆ … ┆ 0.1145        ┆ 0.06493      ┆ 0.2504       ┆ 0.07146      │\n",
       "│ 50%        ┆ 906024.0     ┆ null      ┆ 13.37       ┆ … ┆ 0.2267        ┆ 0.09993      ┆ 0.2822       ┆ 0.08004      │\n",
       "│ 75%        ┆ 8.813129e6   ┆ null      ┆ 15.78       ┆ … ┆ 0.3829        ┆ 0.1614       ┆ 0.3179       ┆ 0.09208      │\n",
       "│ max        ┆ 9.11320502e8 ┆ M         ┆ 28.11       ┆ … ┆ 1.252         ┆ 0.291        ┆ 0.6638       ┆ 0.2075       │\n",
       "└────────────┴──────────────┴───────────┴─────────────┴───┴───────────────┴──────────────┴──────────────┴──────────────┘"
      ]
     },
     "execution_count": 6,
     "metadata": {},
     "output_type": "execute_result"
    }
   ],
   "source": [
    "lf.describe()"
   ]
  },
  {
   "cell_type": "markdown",
   "id": "6013f9e2-9e74-4cab-bbb3-1e1cd0f33533",
   "metadata": {},
   "source": [
    "## Show correlation matrix Heatmap"
   ]
  },
  {
   "cell_type": "code",
   "execution_count": 7,
   "id": "99e32db0-8a64-4c56-82af-ca45bd4d90fa",
   "metadata": {},
   "outputs": [],
   "source": [
    "## re-lable the diagnosis\n",
    "lf = lf.with_columns(\n",
    "    (pl.when(pl.col(\"diagnosis\")==pl.lit('B')).then(1).otherwise(0)).alias(\"diagnosis\")\n",
    "               )"
   ]
  },
  {
   "cell_type": "code",
   "execution_count": 8,
   "id": "1bf64656-3405-4d5a-9825-98ea8a94500f",
   "metadata": {},
   "outputs": [
    {
     "data": {
      "text/html": [
       "<div><style>\n",
       ".dataframe > thead > tr,\n",
       ".dataframe > tbody > tr {\n",
       "  text-align: right;\n",
       "  white-space: pre-wrap;\n",
       "}\n",
       "</style>\n",
       "<small>shape: (569, 32)</small><table border=\"1\" class=\"dataframe\"><thead><tr><th>id</th><th>diagnosis</th><th>radius_mean</th><th>texture_mean</th><th>perimeter_mean</th><th>area_mean</th><th>smoothness_mean</th><th>compactness_mean</th><th>concavity_mean</th><th>concave points_mean</th><th>symmetry_mean</th><th>fractal_dimension_mean</th><th>radius_se</th><th>texture_se</th><th>perimeter_se</th><th>area_se</th><th>smoothness_se</th><th>compactness_se</th><th>concavity_se</th><th>concave points_se</th><th>symmetry_se</th><th>fractal_dimension_se</th><th>radius_worst</th><th>texture_worst</th><th>perimeter_worst</th><th>area_worst</th><th>smoothness_worst</th><th>compactness_worst</th><th>concavity_worst</th><th>concave points_worst</th><th>symmetry_worst</th><th>fractal_dimension_worst</th></tr><tr><td>i64</td><td>i32</td><td>f64</td><td>f64</td><td>f64</td><td>f64</td><td>f64</td><td>f64</td><td>f64</td><td>f64</td><td>f64</td><td>f64</td><td>f64</td><td>f64</td><td>f64</td><td>f64</td><td>f64</td><td>f64</td><td>f64</td><td>f64</td><td>f64</td><td>f64</td><td>f64</td><td>f64</td><td>f64</td><td>f64</td><td>f64</td><td>f64</td><td>f64</td><td>f64</td><td>f64</td><td>f64</td></tr></thead><tbody><tr><td>842302</td><td>0</td><td>17.99</td><td>10.38</td><td>122.8</td><td>1001.0</td><td>0.1184</td><td>0.2776</td><td>0.3001</td><td>0.1471</td><td>0.2419</td><td>0.07871</td><td>1.095</td><td>0.9053</td><td>8.589</td><td>153.4</td><td>0.006399</td><td>0.04904</td><td>0.05373</td><td>0.01587</td><td>0.03003</td><td>0.006193</td><td>25.38</td><td>17.33</td><td>184.6</td><td>2019.0</td><td>0.1622</td><td>0.6656</td><td>0.7119</td><td>0.2654</td><td>0.4601</td><td>0.1189</td></tr><tr><td>842517</td><td>0</td><td>20.57</td><td>17.77</td><td>132.9</td><td>1326.0</td><td>0.08474</td><td>0.07864</td><td>0.0869</td><td>0.07017</td><td>0.1812</td><td>0.05667</td><td>0.5435</td><td>0.7339</td><td>3.398</td><td>74.08</td><td>0.005225</td><td>0.01308</td><td>0.0186</td><td>0.0134</td><td>0.01389</td><td>0.003532</td><td>24.99</td><td>23.41</td><td>158.8</td><td>1956.0</td><td>0.1238</td><td>0.1866</td><td>0.2416</td><td>0.186</td><td>0.275</td><td>0.08902</td></tr><tr><td>84300903</td><td>0</td><td>19.69</td><td>21.25</td><td>130.0</td><td>1203.0</td><td>0.1096</td><td>0.1599</td><td>0.1974</td><td>0.1279</td><td>0.2069</td><td>0.05999</td><td>0.7456</td><td>0.7869</td><td>4.585</td><td>94.03</td><td>0.00615</td><td>0.04006</td><td>0.03832</td><td>0.02058</td><td>0.0225</td><td>0.004571</td><td>23.57</td><td>25.53</td><td>152.5</td><td>1709.0</td><td>0.1444</td><td>0.4245</td><td>0.4504</td><td>0.243</td><td>0.3613</td><td>0.08758</td></tr><tr><td>84348301</td><td>0</td><td>11.42</td><td>20.38</td><td>77.58</td><td>386.1</td><td>0.1425</td><td>0.2839</td><td>0.2414</td><td>0.1052</td><td>0.2597</td><td>0.09744</td><td>0.4956</td><td>1.156</td><td>3.445</td><td>27.23</td><td>0.00911</td><td>0.07458</td><td>0.05661</td><td>0.01867</td><td>0.05963</td><td>0.009208</td><td>14.91</td><td>26.5</td><td>98.87</td><td>567.7</td><td>0.2098</td><td>0.8663</td><td>0.6869</td><td>0.2575</td><td>0.6638</td><td>0.173</td></tr><tr><td>84358402</td><td>0</td><td>20.29</td><td>14.34</td><td>135.1</td><td>1297.0</td><td>0.1003</td><td>0.1328</td><td>0.198</td><td>0.1043</td><td>0.1809</td><td>0.05883</td><td>0.7572</td><td>0.7813</td><td>5.438</td><td>94.44</td><td>0.01149</td><td>0.02461</td><td>0.05688</td><td>0.01885</td><td>0.01756</td><td>0.005115</td><td>22.54</td><td>16.67</td><td>152.2</td><td>1575.0</td><td>0.1374</td><td>0.205</td><td>0.4</td><td>0.1625</td><td>0.2364</td><td>0.07678</td></tr><tr><td>&hellip;</td><td>&hellip;</td><td>&hellip;</td><td>&hellip;</td><td>&hellip;</td><td>&hellip;</td><td>&hellip;</td><td>&hellip;</td><td>&hellip;</td><td>&hellip;</td><td>&hellip;</td><td>&hellip;</td><td>&hellip;</td><td>&hellip;</td><td>&hellip;</td><td>&hellip;</td><td>&hellip;</td><td>&hellip;</td><td>&hellip;</td><td>&hellip;</td><td>&hellip;</td><td>&hellip;</td><td>&hellip;</td><td>&hellip;</td><td>&hellip;</td><td>&hellip;</td><td>&hellip;</td><td>&hellip;</td><td>&hellip;</td><td>&hellip;</td><td>&hellip;</td><td>&hellip;</td></tr><tr><td>926424</td><td>0</td><td>21.56</td><td>22.39</td><td>142.0</td><td>1479.0</td><td>0.111</td><td>0.1159</td><td>0.2439</td><td>0.1389</td><td>0.1726</td><td>0.05623</td><td>1.176</td><td>1.256</td><td>7.673</td><td>158.7</td><td>0.0103</td><td>0.02891</td><td>0.05198</td><td>0.02454</td><td>0.01114</td><td>0.004239</td><td>25.45</td><td>26.4</td><td>166.1</td><td>2027.0</td><td>0.141</td><td>0.2113</td><td>0.4107</td><td>0.2216</td><td>0.206</td><td>0.07115</td></tr><tr><td>926682</td><td>0</td><td>20.13</td><td>28.25</td><td>131.2</td><td>1261.0</td><td>0.0978</td><td>0.1034</td><td>0.144</td><td>0.09791</td><td>0.1752</td><td>0.05533</td><td>0.7655</td><td>2.463</td><td>5.203</td><td>99.04</td><td>0.005769</td><td>0.02423</td><td>0.0395</td><td>0.01678</td><td>0.01898</td><td>0.002498</td><td>23.69</td><td>38.25</td><td>155.0</td><td>1731.0</td><td>0.1166</td><td>0.1922</td><td>0.3215</td><td>0.1628</td><td>0.2572</td><td>0.06637</td></tr><tr><td>926954</td><td>0</td><td>16.6</td><td>28.08</td><td>108.3</td><td>858.1</td><td>0.08455</td><td>0.1023</td><td>0.09251</td><td>0.05302</td><td>0.159</td><td>0.05648</td><td>0.4564</td><td>1.075</td><td>3.425</td><td>48.55</td><td>0.005903</td><td>0.03731</td><td>0.0473</td><td>0.01557</td><td>0.01318</td><td>0.003892</td><td>18.98</td><td>34.12</td><td>126.7</td><td>1124.0</td><td>0.1139</td><td>0.3094</td><td>0.3403</td><td>0.1418</td><td>0.2218</td><td>0.0782</td></tr><tr><td>927241</td><td>0</td><td>20.6</td><td>29.33</td><td>140.1</td><td>1265.0</td><td>0.1178</td><td>0.277</td><td>0.3514</td><td>0.152</td><td>0.2397</td><td>0.07016</td><td>0.726</td><td>1.595</td><td>5.772</td><td>86.22</td><td>0.006522</td><td>0.06158</td><td>0.07117</td><td>0.01664</td><td>0.02324</td><td>0.006185</td><td>25.74</td><td>39.42</td><td>184.6</td><td>1821.0</td><td>0.165</td><td>0.8681</td><td>0.9387</td><td>0.265</td><td>0.4087</td><td>0.124</td></tr><tr><td>92751</td><td>1</td><td>7.76</td><td>24.54</td><td>47.92</td><td>181.0</td><td>0.05263</td><td>0.04362</td><td>0.0</td><td>0.0</td><td>0.1587</td><td>0.05884</td><td>0.3857</td><td>1.428</td><td>2.548</td><td>19.15</td><td>0.007189</td><td>0.00466</td><td>0.0</td><td>0.0</td><td>0.02676</td><td>0.002783</td><td>9.456</td><td>30.37</td><td>59.16</td><td>268.6</td><td>0.08996</td><td>0.06444</td><td>0.0</td><td>0.0</td><td>0.2871</td><td>0.07039</td></tr></tbody></table></div>"
      ],
      "text/plain": [
       "shape: (569, 32)\n",
       "┌──────────┬───────────┬─────────────┬──────────────┬───┬───────────────┬───────────────┬───────────────┬──────────────┐\n",
       "│ id       ┆ diagnosis ┆ radius_mean ┆ texture_mean ┆ … ┆ concavity_wor ┆ concave       ┆ symmetry_wors ┆ fractal_dime │\n",
       "│ ---      ┆ ---       ┆ ---         ┆ ---          ┆   ┆ st            ┆ points_worst  ┆ t             ┆ nsion_worst  │\n",
       "│ i64      ┆ i32       ┆ f64         ┆ f64          ┆   ┆ ---           ┆ ---           ┆ ---           ┆ ---          │\n",
       "│          ┆           ┆             ┆              ┆   ┆ f64           ┆ f64           ┆ f64           ┆ f64          │\n",
       "╞══════════╪═══════════╪═════════════╪══════════════╪═══╪═══════════════╪═══════════════╪═══════════════╪══════════════╡\n",
       "│ 842302   ┆ 0         ┆ 17.99       ┆ 10.38        ┆ … ┆ 0.7119        ┆ 0.2654        ┆ 0.4601        ┆ 0.1189       │\n",
       "│ 842517   ┆ 0         ┆ 20.57       ┆ 17.77        ┆ … ┆ 0.2416        ┆ 0.186         ┆ 0.275         ┆ 0.08902      │\n",
       "│ 84300903 ┆ 0         ┆ 19.69       ┆ 21.25        ┆ … ┆ 0.4504        ┆ 0.243         ┆ 0.3613        ┆ 0.08758      │\n",
       "│ 84348301 ┆ 0         ┆ 11.42       ┆ 20.38        ┆ … ┆ 0.6869        ┆ 0.2575        ┆ 0.6638        ┆ 0.173        │\n",
       "│ 84358402 ┆ 0         ┆ 20.29       ┆ 14.34        ┆ … ┆ 0.4           ┆ 0.1625        ┆ 0.2364        ┆ 0.07678      │\n",
       "│ …        ┆ …         ┆ …           ┆ …            ┆ … ┆ …             ┆ …             ┆ …             ┆ …            │\n",
       "│ 926424   ┆ 0         ┆ 21.56       ┆ 22.39        ┆ … ┆ 0.4107        ┆ 0.2216        ┆ 0.206         ┆ 0.07115      │\n",
       "│ 926682   ┆ 0         ┆ 20.13       ┆ 28.25        ┆ … ┆ 0.3215        ┆ 0.1628        ┆ 0.2572        ┆ 0.06637      │\n",
       "│ 926954   ┆ 0         ┆ 16.6        ┆ 28.08        ┆ … ┆ 0.3403        ┆ 0.1418        ┆ 0.2218        ┆ 0.0782       │\n",
       "│ 927241   ┆ 0         ┆ 20.6        ┆ 29.33        ┆ … ┆ 0.9387        ┆ 0.265         ┆ 0.4087        ┆ 0.124        │\n",
       "│ 92751    ┆ 1         ┆ 7.76        ┆ 24.54        ┆ … ┆ 0.0           ┆ 0.0           ┆ 0.2871        ┆ 0.07039      │\n",
       "└──────────┴───────────┴─────────────┴──────────────┴───┴───────────────┴───────────────┴───────────────┴──────────────┘"
      ]
     },
     "execution_count": 8,
     "metadata": {},
     "output_type": "execute_result"
    }
   ],
   "source": [
    "lf.collect()"
   ]
  },
  {
   "cell_type": "code",
   "execution_count": 9,
   "id": "b616a9a5-ad30-459d-8770-9ae71b763685",
   "metadata": {},
   "outputs": [],
   "source": [
    "lf_no_id = lf.select(\n",
    "    pl.exclude([\"id\"])\n",
    ").collect()"
   ]
  },
  {
   "cell_type": "code",
   "execution_count": 10,
   "id": "cc3c6e1d-6952-43be-8b79-264e6c1de2d7",
   "metadata": {},
   "outputs": [
    {
     "data": {
      "text/html": [
       "<style>#sk-container-id-1 {\n",
       "  /* Definition of color scheme common for light and dark mode */\n",
       "  --sklearn-color-text: #000;\n",
       "  --sklearn-color-text-muted: #666;\n",
       "  --sklearn-color-line: gray;\n",
       "  /* Definition of color scheme for unfitted estimators */\n",
       "  --sklearn-color-unfitted-level-0: #fff5e6;\n",
       "  --sklearn-color-unfitted-level-1: #f6e4d2;\n",
       "  --sklearn-color-unfitted-level-2: #ffe0b3;\n",
       "  --sklearn-color-unfitted-level-3: chocolate;\n",
       "  /* Definition of color scheme for fitted estimators */\n",
       "  --sklearn-color-fitted-level-0: #f0f8ff;\n",
       "  --sklearn-color-fitted-level-1: #d4ebff;\n",
       "  --sklearn-color-fitted-level-2: #b3dbfd;\n",
       "  --sklearn-color-fitted-level-3: cornflowerblue;\n",
       "\n",
       "  /* Specific color for light theme */\n",
       "  --sklearn-color-text-on-default-background: var(--sg-text-color, var(--theme-code-foreground, var(--jp-content-font-color1, black)));\n",
       "  --sklearn-color-background: var(--sg-background-color, var(--theme-background, var(--jp-layout-color0, white)));\n",
       "  --sklearn-color-border-box: var(--sg-text-color, var(--theme-code-foreground, var(--jp-content-font-color1, black)));\n",
       "  --sklearn-color-icon: #696969;\n",
       "\n",
       "  @media (prefers-color-scheme: dark) {\n",
       "    /* Redefinition of color scheme for dark theme */\n",
       "    --sklearn-color-text-on-default-background: var(--sg-text-color, var(--theme-code-foreground, var(--jp-content-font-color1, white)));\n",
       "    --sklearn-color-background: var(--sg-background-color, var(--theme-background, var(--jp-layout-color0, #111)));\n",
       "    --sklearn-color-border-box: var(--sg-text-color, var(--theme-code-foreground, var(--jp-content-font-color1, white)));\n",
       "    --sklearn-color-icon: #878787;\n",
       "  }\n",
       "}\n",
       "\n",
       "#sk-container-id-1 {\n",
       "  color: var(--sklearn-color-text);\n",
       "}\n",
       "\n",
       "#sk-container-id-1 pre {\n",
       "  padding: 0;\n",
       "}\n",
       "\n",
       "#sk-container-id-1 input.sk-hidden--visually {\n",
       "  border: 0;\n",
       "  clip: rect(1px 1px 1px 1px);\n",
       "  clip: rect(1px, 1px, 1px, 1px);\n",
       "  height: 1px;\n",
       "  margin: -1px;\n",
       "  overflow: hidden;\n",
       "  padding: 0;\n",
       "  position: absolute;\n",
       "  width: 1px;\n",
       "}\n",
       "\n",
       "#sk-container-id-1 div.sk-dashed-wrapped {\n",
       "  border: 1px dashed var(--sklearn-color-line);\n",
       "  margin: 0 0.4em 0.5em 0.4em;\n",
       "  box-sizing: border-box;\n",
       "  padding-bottom: 0.4em;\n",
       "  background-color: var(--sklearn-color-background);\n",
       "}\n",
       "\n",
       "#sk-container-id-1 div.sk-container {\n",
       "  /* jupyter's `normalize.less` sets `[hidden] { display: none; }`\n",
       "     but bootstrap.min.css set `[hidden] { display: none !important; }`\n",
       "     so we also need the `!important` here to be able to override the\n",
       "     default hidden behavior on the sphinx rendered scikit-learn.org.\n",
       "     See: https://github.com/scikit-learn/scikit-learn/issues/21755 */\n",
       "  display: inline-block !important;\n",
       "  position: relative;\n",
       "}\n",
       "\n",
       "#sk-container-id-1 div.sk-text-repr-fallback {\n",
       "  display: none;\n",
       "}\n",
       "\n",
       "div.sk-parallel-item,\n",
       "div.sk-serial,\n",
       "div.sk-item {\n",
       "  /* draw centered vertical line to link estimators */\n",
       "  background-image: linear-gradient(var(--sklearn-color-text-on-default-background), var(--sklearn-color-text-on-default-background));\n",
       "  background-size: 2px 100%;\n",
       "  background-repeat: no-repeat;\n",
       "  background-position: center center;\n",
       "}\n",
       "\n",
       "/* Parallel-specific style estimator block */\n",
       "\n",
       "#sk-container-id-1 div.sk-parallel-item::after {\n",
       "  content: \"\";\n",
       "  width: 100%;\n",
       "  border-bottom: 2px solid var(--sklearn-color-text-on-default-background);\n",
       "  flex-grow: 1;\n",
       "}\n",
       "\n",
       "#sk-container-id-1 div.sk-parallel {\n",
       "  display: flex;\n",
       "  align-items: stretch;\n",
       "  justify-content: center;\n",
       "  background-color: var(--sklearn-color-background);\n",
       "  position: relative;\n",
       "}\n",
       "\n",
       "#sk-container-id-1 div.sk-parallel-item {\n",
       "  display: flex;\n",
       "  flex-direction: column;\n",
       "}\n",
       "\n",
       "#sk-container-id-1 div.sk-parallel-item:first-child::after {\n",
       "  align-self: flex-end;\n",
       "  width: 50%;\n",
       "}\n",
       "\n",
       "#sk-container-id-1 div.sk-parallel-item:last-child::after {\n",
       "  align-self: flex-start;\n",
       "  width: 50%;\n",
       "}\n",
       "\n",
       "#sk-container-id-1 div.sk-parallel-item:only-child::after {\n",
       "  width: 0;\n",
       "}\n",
       "\n",
       "/* Serial-specific style estimator block */\n",
       "\n",
       "#sk-container-id-1 div.sk-serial {\n",
       "  display: flex;\n",
       "  flex-direction: column;\n",
       "  align-items: center;\n",
       "  background-color: var(--sklearn-color-background);\n",
       "  padding-right: 1em;\n",
       "  padding-left: 1em;\n",
       "}\n",
       "\n",
       "\n",
       "/* Toggleable style: style used for estimator/Pipeline/ColumnTransformer box that is\n",
       "clickable and can be expanded/collapsed.\n",
       "- Pipeline and ColumnTransformer use this feature and define the default style\n",
       "- Estimators will overwrite some part of the style using the `sk-estimator` class\n",
       "*/\n",
       "\n",
       "/* Pipeline and ColumnTransformer style (default) */\n",
       "\n",
       "#sk-container-id-1 div.sk-toggleable {\n",
       "  /* Default theme specific background. It is overwritten whether we have a\n",
       "  specific estimator or a Pipeline/ColumnTransformer */\n",
       "  background-color: var(--sklearn-color-background);\n",
       "}\n",
       "\n",
       "/* Toggleable label */\n",
       "#sk-container-id-1 label.sk-toggleable__label {\n",
       "  cursor: pointer;\n",
       "  display: flex;\n",
       "  width: 100%;\n",
       "  margin-bottom: 0;\n",
       "  padding: 0.5em;\n",
       "  box-sizing: border-box;\n",
       "  text-align: center;\n",
       "  align-items: start;\n",
       "  justify-content: space-between;\n",
       "  gap: 0.5em;\n",
       "}\n",
       "\n",
       "#sk-container-id-1 label.sk-toggleable__label .caption {\n",
       "  font-size: 0.6rem;\n",
       "  font-weight: lighter;\n",
       "  color: var(--sklearn-color-text-muted);\n",
       "}\n",
       "\n",
       "#sk-container-id-1 label.sk-toggleable__label-arrow:before {\n",
       "  /* Arrow on the left of the label */\n",
       "  content: \"▸\";\n",
       "  float: left;\n",
       "  margin-right: 0.25em;\n",
       "  color: var(--sklearn-color-icon);\n",
       "}\n",
       "\n",
       "#sk-container-id-1 label.sk-toggleable__label-arrow:hover:before {\n",
       "  color: var(--sklearn-color-text);\n",
       "}\n",
       "\n",
       "/* Toggleable content - dropdown */\n",
       "\n",
       "#sk-container-id-1 div.sk-toggleable__content {\n",
       "  max-height: 0;\n",
       "  max-width: 0;\n",
       "  overflow: hidden;\n",
       "  text-align: left;\n",
       "  /* unfitted */\n",
       "  background-color: var(--sklearn-color-unfitted-level-0);\n",
       "}\n",
       "\n",
       "#sk-container-id-1 div.sk-toggleable__content.fitted {\n",
       "  /* fitted */\n",
       "  background-color: var(--sklearn-color-fitted-level-0);\n",
       "}\n",
       "\n",
       "#sk-container-id-1 div.sk-toggleable__content pre {\n",
       "  margin: 0.2em;\n",
       "  border-radius: 0.25em;\n",
       "  color: var(--sklearn-color-text);\n",
       "  /* unfitted */\n",
       "  background-color: var(--sklearn-color-unfitted-level-0);\n",
       "}\n",
       "\n",
       "#sk-container-id-1 div.sk-toggleable__content.fitted pre {\n",
       "  /* unfitted */\n",
       "  background-color: var(--sklearn-color-fitted-level-0);\n",
       "}\n",
       "\n",
       "#sk-container-id-1 input.sk-toggleable__control:checked~div.sk-toggleable__content {\n",
       "  /* Expand drop-down */\n",
       "  max-height: 200px;\n",
       "  max-width: 100%;\n",
       "  overflow: auto;\n",
       "}\n",
       "\n",
       "#sk-container-id-1 input.sk-toggleable__control:checked~label.sk-toggleable__label-arrow:before {\n",
       "  content: \"▾\";\n",
       "}\n",
       "\n",
       "/* Pipeline/ColumnTransformer-specific style */\n",
       "\n",
       "#sk-container-id-1 div.sk-label input.sk-toggleable__control:checked~label.sk-toggleable__label {\n",
       "  color: var(--sklearn-color-text);\n",
       "  background-color: var(--sklearn-color-unfitted-level-2);\n",
       "}\n",
       "\n",
       "#sk-container-id-1 div.sk-label.fitted input.sk-toggleable__control:checked~label.sk-toggleable__label {\n",
       "  background-color: var(--sklearn-color-fitted-level-2);\n",
       "}\n",
       "\n",
       "/* Estimator-specific style */\n",
       "\n",
       "/* Colorize estimator box */\n",
       "#sk-container-id-1 div.sk-estimator input.sk-toggleable__control:checked~label.sk-toggleable__label {\n",
       "  /* unfitted */\n",
       "  background-color: var(--sklearn-color-unfitted-level-2);\n",
       "}\n",
       "\n",
       "#sk-container-id-1 div.sk-estimator.fitted input.sk-toggleable__control:checked~label.sk-toggleable__label {\n",
       "  /* fitted */\n",
       "  background-color: var(--sklearn-color-fitted-level-2);\n",
       "}\n",
       "\n",
       "#sk-container-id-1 div.sk-label label.sk-toggleable__label,\n",
       "#sk-container-id-1 div.sk-label label {\n",
       "  /* The background is the default theme color */\n",
       "  color: var(--sklearn-color-text-on-default-background);\n",
       "}\n",
       "\n",
       "/* On hover, darken the color of the background */\n",
       "#sk-container-id-1 div.sk-label:hover label.sk-toggleable__label {\n",
       "  color: var(--sklearn-color-text);\n",
       "  background-color: var(--sklearn-color-unfitted-level-2);\n",
       "}\n",
       "\n",
       "/* Label box, darken color on hover, fitted */\n",
       "#sk-container-id-1 div.sk-label.fitted:hover label.sk-toggleable__label.fitted {\n",
       "  color: var(--sklearn-color-text);\n",
       "  background-color: var(--sklearn-color-fitted-level-2);\n",
       "}\n",
       "\n",
       "/* Estimator label */\n",
       "\n",
       "#sk-container-id-1 div.sk-label label {\n",
       "  font-family: monospace;\n",
       "  font-weight: bold;\n",
       "  display: inline-block;\n",
       "  line-height: 1.2em;\n",
       "}\n",
       "\n",
       "#sk-container-id-1 div.sk-label-container {\n",
       "  text-align: center;\n",
       "}\n",
       "\n",
       "/* Estimator-specific */\n",
       "#sk-container-id-1 div.sk-estimator {\n",
       "  font-family: monospace;\n",
       "  border: 1px dotted var(--sklearn-color-border-box);\n",
       "  border-radius: 0.25em;\n",
       "  box-sizing: border-box;\n",
       "  margin-bottom: 0.5em;\n",
       "  /* unfitted */\n",
       "  background-color: var(--sklearn-color-unfitted-level-0);\n",
       "}\n",
       "\n",
       "#sk-container-id-1 div.sk-estimator.fitted {\n",
       "  /* fitted */\n",
       "  background-color: var(--sklearn-color-fitted-level-0);\n",
       "}\n",
       "\n",
       "/* on hover */\n",
       "#sk-container-id-1 div.sk-estimator:hover {\n",
       "  /* unfitted */\n",
       "  background-color: var(--sklearn-color-unfitted-level-2);\n",
       "}\n",
       "\n",
       "#sk-container-id-1 div.sk-estimator.fitted:hover {\n",
       "  /* fitted */\n",
       "  background-color: var(--sklearn-color-fitted-level-2);\n",
       "}\n",
       "\n",
       "/* Specification for estimator info (e.g. \"i\" and \"?\") */\n",
       "\n",
       "/* Common style for \"i\" and \"?\" */\n",
       "\n",
       ".sk-estimator-doc-link,\n",
       "a:link.sk-estimator-doc-link,\n",
       "a:visited.sk-estimator-doc-link {\n",
       "  float: right;\n",
       "  font-size: smaller;\n",
       "  line-height: 1em;\n",
       "  font-family: monospace;\n",
       "  background-color: var(--sklearn-color-background);\n",
       "  border-radius: 1em;\n",
       "  height: 1em;\n",
       "  width: 1em;\n",
       "  text-decoration: none !important;\n",
       "  margin-left: 0.5em;\n",
       "  text-align: center;\n",
       "  /* unfitted */\n",
       "  border: var(--sklearn-color-unfitted-level-1) 1pt solid;\n",
       "  color: var(--sklearn-color-unfitted-level-1);\n",
       "}\n",
       "\n",
       ".sk-estimator-doc-link.fitted,\n",
       "a:link.sk-estimator-doc-link.fitted,\n",
       "a:visited.sk-estimator-doc-link.fitted {\n",
       "  /* fitted */\n",
       "  border: var(--sklearn-color-fitted-level-1) 1pt solid;\n",
       "  color: var(--sklearn-color-fitted-level-1);\n",
       "}\n",
       "\n",
       "/* On hover */\n",
       "div.sk-estimator:hover .sk-estimator-doc-link:hover,\n",
       ".sk-estimator-doc-link:hover,\n",
       "div.sk-label-container:hover .sk-estimator-doc-link:hover,\n",
       ".sk-estimator-doc-link:hover {\n",
       "  /* unfitted */\n",
       "  background-color: var(--sklearn-color-unfitted-level-3);\n",
       "  color: var(--sklearn-color-background);\n",
       "  text-decoration: none;\n",
       "}\n",
       "\n",
       "div.sk-estimator.fitted:hover .sk-estimator-doc-link.fitted:hover,\n",
       ".sk-estimator-doc-link.fitted:hover,\n",
       "div.sk-label-container:hover .sk-estimator-doc-link.fitted:hover,\n",
       ".sk-estimator-doc-link.fitted:hover {\n",
       "  /* fitted */\n",
       "  background-color: var(--sklearn-color-fitted-level-3);\n",
       "  color: var(--sklearn-color-background);\n",
       "  text-decoration: none;\n",
       "}\n",
       "\n",
       "/* Span, style for the box shown on hovering the info icon */\n",
       ".sk-estimator-doc-link span {\n",
       "  display: none;\n",
       "  z-index: 9999;\n",
       "  position: relative;\n",
       "  font-weight: normal;\n",
       "  right: .2ex;\n",
       "  padding: .5ex;\n",
       "  margin: .5ex;\n",
       "  width: min-content;\n",
       "  min-width: 20ex;\n",
       "  max-width: 50ex;\n",
       "  color: var(--sklearn-color-text);\n",
       "  box-shadow: 2pt 2pt 4pt #999;\n",
       "  /* unfitted */\n",
       "  background: var(--sklearn-color-unfitted-level-0);\n",
       "  border: .5pt solid var(--sklearn-color-unfitted-level-3);\n",
       "}\n",
       "\n",
       ".sk-estimator-doc-link.fitted span {\n",
       "  /* fitted */\n",
       "  background: var(--sklearn-color-fitted-level-0);\n",
       "  border: var(--sklearn-color-fitted-level-3);\n",
       "}\n",
       "\n",
       ".sk-estimator-doc-link:hover span {\n",
       "  display: block;\n",
       "}\n",
       "\n",
       "/* \"?\"-specific style due to the `<a>` HTML tag */\n",
       "\n",
       "#sk-container-id-1 a.estimator_doc_link {\n",
       "  float: right;\n",
       "  font-size: 1rem;\n",
       "  line-height: 1em;\n",
       "  font-family: monospace;\n",
       "  background-color: var(--sklearn-color-background);\n",
       "  border-radius: 1rem;\n",
       "  height: 1rem;\n",
       "  width: 1rem;\n",
       "  text-decoration: none;\n",
       "  /* unfitted */\n",
       "  color: var(--sklearn-color-unfitted-level-1);\n",
       "  border: var(--sklearn-color-unfitted-level-1) 1pt solid;\n",
       "}\n",
       "\n",
       "#sk-container-id-1 a.estimator_doc_link.fitted {\n",
       "  /* fitted */\n",
       "  border: var(--sklearn-color-fitted-level-1) 1pt solid;\n",
       "  color: var(--sklearn-color-fitted-level-1);\n",
       "}\n",
       "\n",
       "/* On hover */\n",
       "#sk-container-id-1 a.estimator_doc_link:hover {\n",
       "  /* unfitted */\n",
       "  background-color: var(--sklearn-color-unfitted-level-3);\n",
       "  color: var(--sklearn-color-background);\n",
       "  text-decoration: none;\n",
       "}\n",
       "\n",
       "#sk-container-id-1 a.estimator_doc_link.fitted:hover {\n",
       "  /* fitted */\n",
       "  background-color: var(--sklearn-color-fitted-level-3);\n",
       "}\n",
       "</style><div id=\"sk-container-id-1\" class=\"sk-top-container\"><div class=\"sk-text-repr-fallback\"><pre>StandardScaler()</pre><b>In a Jupyter environment, please rerun this cell to show the HTML representation or trust the notebook. <br />On GitHub, the HTML representation is unable to render, please try loading this page with nbviewer.org.</b></div><div class=\"sk-container\" hidden><div class=\"sk-item\"><div class=\"sk-estimator fitted sk-toggleable\"><input class=\"sk-toggleable__control sk-hidden--visually\" id=\"sk-estimator-id-1\" type=\"checkbox\" checked><label for=\"sk-estimator-id-1\" class=\"sk-toggleable__label fitted sk-toggleable__label-arrow\"><div><div>StandardScaler</div></div><div><a class=\"sk-estimator-doc-link fitted\" rel=\"noreferrer\" target=\"_blank\" href=\"https://scikit-learn.org/1.6/modules/generated/sklearn.preprocessing.StandardScaler.html\">?<span>Documentation for StandardScaler</span></a><span class=\"sk-estimator-doc-link fitted\">i<span>Fitted</span></span></div></label><div class=\"sk-toggleable__content fitted\"><pre>StandardScaler()</pre></div> </div></div></div></div>"
      ],
      "text/plain": [
       "StandardScaler()"
      ]
     },
     "execution_count": 10,
     "metadata": {},
     "output_type": "execute_result"
    }
   ],
   "source": [
    "transformer = StandardScaler().fit(lf_no_id)\n",
    "transformer"
   ]
  },
  {
   "cell_type": "code",
   "execution_count": 11,
   "id": "b26f6b43-6ec6-4a97-a37c-c4b80705d624",
   "metadata": {},
   "outputs": [],
   "source": [
    "trans_arr = transformer.transform(lf_no_id)\n",
    "#lf_scaled = pl.concat([lf.select(pl.col(\"diagnosis\")) ,  pl.LazyFrame(trans_arr , schema=df.columns)] ,how=\"horizontal\")\n",
    "lf_scaled = pl.LazyFrame(trans_arr , schema=lf_no_id.columns)\n",
    "\n",
    "df = lf_scaled.collect()"
   ]
  },
  {
   "cell_type": "code",
   "execution_count": 12,
   "id": "c88b301f-3ab5-4a13-87c4-2cf6a139540c",
   "metadata": {},
   "outputs": [
    {
     "data": {
      "text/html": [
       "<div><style>\n",
       ".dataframe > thead > tr,\n",
       ".dataframe > tbody > tr {\n",
       "  text-align: right;\n",
       "  white-space: pre-wrap;\n",
       "}\n",
       "</style>\n",
       "<small>shape: (569, 32)</small><table border=\"1\" class=\"dataframe\"><thead><tr><th>id</th><th>diagnosis</th><th>radius_mean</th><th>texture_mean</th><th>perimeter_mean</th><th>area_mean</th><th>smoothness_mean</th><th>compactness_mean</th><th>concavity_mean</th><th>concave points_mean</th><th>symmetry_mean</th><th>fractal_dimension_mean</th><th>radius_se</th><th>texture_se</th><th>perimeter_se</th><th>area_se</th><th>smoothness_se</th><th>compactness_se</th><th>concavity_se</th><th>concave points_se</th><th>symmetry_se</th><th>fractal_dimension_se</th><th>radius_worst</th><th>texture_worst</th><th>perimeter_worst</th><th>area_worst</th><th>smoothness_worst</th><th>compactness_worst</th><th>concavity_worst</th><th>concave points_worst</th><th>symmetry_worst</th><th>fractal_dimension_worst</th></tr><tr><td>i64</td><td>f64</td><td>f64</td><td>f64</td><td>f64</td><td>f64</td><td>f64</td><td>f64</td><td>f64</td><td>f64</td><td>f64</td><td>f64</td><td>f64</td><td>f64</td><td>f64</td><td>f64</td><td>f64</td><td>f64</td><td>f64</td><td>f64</td><td>f64</td><td>f64</td><td>f64</td><td>f64</td><td>f64</td><td>f64</td><td>f64</td><td>f64</td><td>f64</td><td>f64</td><td>f64</td><td>f64</td></tr></thead><tbody><tr><td>842302</td><td>-1.297676</td><td>1.097064</td><td>-2.073335</td><td>1.269934</td><td>0.984375</td><td>1.568466</td><td>3.283515</td><td>2.652874</td><td>2.532475</td><td>2.217515</td><td>2.255747</td><td>2.489734</td><td>-0.565265</td><td>2.833031</td><td>2.487578</td><td>-0.214002</td><td>1.316862</td><td>0.724026</td><td>0.66082</td><td>1.148757</td><td>0.907083</td><td>1.88669</td><td>-1.359293</td><td>2.303601</td><td>2.001237</td><td>1.307686</td><td>2.616665</td><td>2.109526</td><td>2.296076</td><td>2.750622</td><td>1.937015</td></tr><tr><td>842517</td><td>-1.297676</td><td>1.829821</td><td>-0.353632</td><td>1.685955</td><td>1.908708</td><td>-0.826962</td><td>-0.487072</td><td>-0.023846</td><td>0.548144</td><td>0.001392</td><td>-0.868652</td><td>0.499255</td><td>-0.876244</td><td>0.263327</td><td>0.742402</td><td>-0.605351</td><td>-0.692926</td><td>-0.44078</td><td>0.260162</td><td>-0.80545</td><td>-0.099444</td><td>1.805927</td><td>-0.369203</td><td>1.535126</td><td>1.890489</td><td>-0.375612</td><td>-0.430444</td><td>-0.146749</td><td>1.087084</td><td>-0.24389</td><td>0.28119</td></tr><tr><td>84300903</td><td>-1.297676</td><td>1.579888</td><td>0.456187</td><td>1.566503</td><td>1.558884</td><td>0.94221</td><td>1.052926</td><td>1.363478</td><td>2.037231</td><td>0.939685</td><td>-0.398008</td><td>1.228676</td><td>-0.780083</td><td>0.850928</td><td>1.181336</td><td>-0.297005</td><td>0.814974</td><td>0.213076</td><td>1.424827</td><td>0.237036</td><td>0.293559</td><td>1.51187</td><td>-0.023974</td><td>1.347475</td><td>1.456285</td><td>0.527407</td><td>1.082932</td><td>0.854974</td><td>1.955</td><td>1.152255</td><td>0.201391</td></tr><tr><td>84348301</td><td>-1.297676</td><td>-0.768909</td><td>0.253732</td><td>-0.592687</td><td>-0.764464</td><td>3.283553</td><td>3.402909</td><td>1.915897</td><td>1.451707</td><td>2.867383</td><td>4.910919</td><td>0.326373</td><td>-0.110409</td><td>0.286593</td><td>-0.288378</td><td>0.689702</td><td>2.74428</td><td>0.819518</td><td>1.115007</td><td>4.73268</td><td>2.047511</td><td>-0.281464</td><td>0.133984</td><td>-0.249939</td><td>-0.550021</td><td>3.394275</td><td>3.893397</td><td>1.989588</td><td>2.175786</td><td>6.046041</td><td>4.93501</td></tr><tr><td>84358402</td><td>-1.297676</td><td>1.750297</td><td>-1.151816</td><td>1.776573</td><td>1.826229</td><td>0.280372</td><td>0.53934</td><td>1.371011</td><td>1.428493</td><td>-0.00956</td><td>-0.56245</td><td>1.270543</td><td>-0.790244</td><td>1.273189</td><td>1.190357</td><td>1.483067</td><td>-0.04852</td><td>0.828471</td><td>1.144205</td><td>-0.361092</td><td>0.499328</td><td>1.298575</td><td>-1.46677</td><td>1.338539</td><td>1.220724</td><td>0.220556</td><td>-0.313395</td><td>0.613179</td><td>0.729259</td><td>-0.868353</td><td>-0.3971</td></tr><tr><td>&hellip;</td><td>&hellip;</td><td>&hellip;</td><td>&hellip;</td><td>&hellip;</td><td>&hellip;</td><td>&hellip;</td><td>&hellip;</td><td>&hellip;</td><td>&hellip;</td><td>&hellip;</td><td>&hellip;</td><td>&hellip;</td><td>&hellip;</td><td>&hellip;</td><td>&hellip;</td><td>&hellip;</td><td>&hellip;</td><td>&hellip;</td><td>&hellip;</td><td>&hellip;</td><td>&hellip;</td><td>&hellip;</td><td>&hellip;</td><td>&hellip;</td><td>&hellip;</td><td>&hellip;</td><td>&hellip;</td><td>&hellip;</td><td>&hellip;</td><td>&hellip;</td><td>&hellip;</td></tr><tr><td>926424</td><td>-1.297676</td><td>2.110995</td><td>0.721473</td><td>2.060786</td><td>2.343856</td><td>1.041842</td><td>0.21906</td><td>1.947285</td><td>2.320965</td><td>-0.312589</td><td>-0.931027</td><td>2.78208</td><td>0.071025</td><td>2.379583</td><td>2.604187</td><td>1.086384</td><td>0.191805</td><td>0.666001</td><td>2.067178</td><td>-1.138416</td><td>0.16798</td><td>1.901185</td><td>0.1177</td><td>1.752563</td><td>2.015301</td><td>0.378365</td><td>-0.273318</td><td>0.664512</td><td>1.629151</td><td>-1.360158</td><td>-0.709091</td></tr><tr><td>926682</td><td>-1.297676</td><td>1.704854</td><td>2.085134</td><td>1.615931</td><td>1.723842</td><td>0.102458</td><td>-0.017833</td><td>0.693043</td><td>1.263669</td><td>-0.217664</td><td>-1.058611</td><td>1.300499</td><td>2.260938</td><td>1.156857</td><td>1.291565</td><td>-0.42401</td><td>-0.069758</td><td>0.252202</td><td>0.808431</td><td>-0.189161</td><td>-0.490556</td><td>1.53672</td><td>2.047399</td><td>1.42194</td><td>1.494959</td><td>-0.69123</td><td>-0.39482</td><td>0.236573</td><td>0.733827</td><td>-0.531855</td><td>-0.973978</td></tr><tr><td>926954</td><td>-1.297676</td><td>0.702284</td><td>2.045574</td><td>0.672676</td><td>0.577953</td><td>-0.840484</td><td>-0.03868</td><td>0.046588</td><td>0.105777</td><td>-0.809117</td><td>-0.895587</td><td>0.184892</td><td>-0.257371</td><td>0.276693</td><td>0.180698</td><td>-0.379342</td><td>0.661277</td><td>0.510827</td><td>0.612157</td><td>-0.891416</td><td>0.036727</td><td>0.561361</td><td>1.374854</td><td>0.579001</td><td>0.427906</td><td>-0.809587</td><td>0.350735</td><td>0.326767</td><td>0.414069</td><td>-1.104549</td><td>-0.318409</td></tr><tr><td>927241</td><td>-1.297676</td><td>1.838341</td><td>2.336457</td><td>1.982524</td><td>1.735218</td><td>1.525767</td><td>3.272144</td><td>3.296944</td><td>2.658866</td><td>2.137194</td><td>1.043695</td><td>1.157935</td><td>0.686088</td><td>1.43853</td><td>1.009503</td><td>-0.173</td><td>2.017716</td><td>1.302285</td><td>0.785721</td><td>0.326634</td><td>0.904057</td><td>1.961239</td><td>2.237926</td><td>2.303601</td><td>1.653171</td><td>1.430427</td><td>3.904848</td><td>3.197605</td><td>2.289985</td><td>1.919083</td><td>2.219635</td></tr><tr><td>92751</td><td>0.770609</td><td>-1.808401</td><td>1.221792</td><td>-1.814389</td><td>-1.347789</td><td>-3.112085</td><td>-1.150752</td><td>-1.114873</td><td>-1.26182</td><td>-0.82007</td><td>-0.561032</td><td>-0.070279</td><td>0.383092</td><td>-0.157449</td><td>-0.466152</td><td>0.049342</td><td>-1.163516</td><td>-1.057501</td><td>-1.913447</td><td>0.75283</td><td>-0.382754</td><td>-1.410893</td><td>0.76419</td><td>-1.432735</td><td>-1.075813</td><td>-1.859019</td><td>-1.207552</td><td>-1.305831</td><td>-1.745063</td><td>-0.048138</td><td>-0.751207</td></tr></tbody></table></div>"
      ],
      "text/plain": [
       "shape: (569, 32)\n",
       "┌──────────┬───────────┬─────────────┬──────────────┬───┬───────────────┬───────────────┬───────────────┬──────────────┐\n",
       "│ id       ┆ diagnosis ┆ radius_mean ┆ texture_mean ┆ … ┆ concavity_wor ┆ concave       ┆ symmetry_wors ┆ fractal_dime │\n",
       "│ ---      ┆ ---       ┆ ---         ┆ ---          ┆   ┆ st            ┆ points_worst  ┆ t             ┆ nsion_worst  │\n",
       "│ i64      ┆ f64       ┆ f64         ┆ f64          ┆   ┆ ---           ┆ ---           ┆ ---           ┆ ---          │\n",
       "│          ┆           ┆             ┆              ┆   ┆ f64           ┆ f64           ┆ f64           ┆ f64          │\n",
       "╞══════════╪═══════════╪═════════════╪══════════════╪═══╪═══════════════╪═══════════════╪═══════════════╪══════════════╡\n",
       "│ 842302   ┆ -1.297676 ┆ 1.097064    ┆ -2.073335    ┆ … ┆ 2.109526      ┆ 2.296076      ┆ 2.750622      ┆ 1.937015     │\n",
       "│ 842517   ┆ -1.297676 ┆ 1.829821    ┆ -0.353632    ┆ … ┆ -0.146749     ┆ 1.087084      ┆ -0.24389      ┆ 0.28119      │\n",
       "│ 84300903 ┆ -1.297676 ┆ 1.579888    ┆ 0.456187     ┆ … ┆ 0.854974      ┆ 1.955         ┆ 1.152255      ┆ 0.201391     │\n",
       "│ 84348301 ┆ -1.297676 ┆ -0.768909   ┆ 0.253732     ┆ … ┆ 1.989588      ┆ 2.175786      ┆ 6.046041      ┆ 4.93501      │\n",
       "│ 84358402 ┆ -1.297676 ┆ 1.750297    ┆ -1.151816    ┆ … ┆ 0.613179      ┆ 0.729259      ┆ -0.868353     ┆ -0.3971      │\n",
       "│ …        ┆ …         ┆ …           ┆ …            ┆ … ┆ …             ┆ …             ┆ …             ┆ …            │\n",
       "│ 926424   ┆ -1.297676 ┆ 2.110995    ┆ 0.721473     ┆ … ┆ 0.664512      ┆ 1.629151      ┆ -1.360158     ┆ -0.709091    │\n",
       "│ 926682   ┆ -1.297676 ┆ 1.704854    ┆ 2.085134     ┆ … ┆ 0.236573      ┆ 0.733827      ┆ -0.531855     ┆ -0.973978    │\n",
       "│ 926954   ┆ -1.297676 ┆ 0.702284    ┆ 2.045574     ┆ … ┆ 0.326767      ┆ 0.414069      ┆ -1.104549     ┆ -0.318409    │\n",
       "│ 927241   ┆ -1.297676 ┆ 1.838341    ┆ 2.336457     ┆ … ┆ 3.197605      ┆ 2.289985      ┆ 1.919083      ┆ 2.219635     │\n",
       "│ 92751    ┆ 0.770609  ┆ -1.808401   ┆ 1.221792     ┆ … ┆ -1.305831     ┆ -1.745063     ┆ -0.048138     ┆ -0.751207    │\n",
       "└──────────┴───────────┴─────────────┴──────────────┴───┴───────────────┴───────────────┴───────────────┴──────────────┘"
      ]
     },
     "execution_count": 12,
     "metadata": {},
     "output_type": "execute_result"
    }
   ],
   "source": [
    "pl.concat([lf.select(pl.col(\"id\")),lf_scaled] , how=\"horizontal\").collect()"
   ]
  },
  {
   "cell_type": "raw",
   "id": "a4813dd5-ab46-422a-a007-fad66833e244",
   "metadata": {},
   "source": [
    "## Encoding:\n",
    "# Malingang: -1.297676\n",
    "# Benign: 0.770609\n",
    "\n",
    "\n",
    "# Findings: -Drop all features with less than 0.4 or -0.4 correlation.\n",
    "#           -Look at Multicolllinearity --> for those features that have high correlation with the target variable, check if they have high correlation with each other and then drop one of them\n",
    "df = lf_scaled.collect()\n",
    "\n",
    "# Correlation Matrix created by calculating covariance. This is possible because the dataset is standardized\n",
    "#covariance_matrix_unscaled = np.cov(df, rowvar=False)\n",
    "covariance_matrix = np.cov(df, rowvar=False) \n",
    "\n",
    "# Visualize the Covariance Matrix\n",
    "plt.figure(figsize=(100, 100), dpi=70) \n",
    "ax = sns.heatmap(covariance_matrix, annot=True, fmt=\".2f\", cmap='coolwarm', cbar=True , xticklabels=df.columns , yticklabels=df.columns)\n",
    "\n",
    "# Add labels and title\n",
    "plt.title(\"Correlation Matrix Heatmap\")\n",
    "plt.show()"
   ]
  },
  {
   "cell_type": "markdown",
   "id": "19f10682-04a4-4d96-a5c3-8c382805400a",
   "metadata": {},
   "source": [
    "## Pairplot"
   ]
  },
  {
   "cell_type": "raw",
   "id": "e3641cc5-4fe6-4671-97d3-5b5a781ced28",
   "metadata": {},
   "source": [
    "sns.pairplot(df.to_pandas() , hue=\"diagnosis\")"
   ]
  },
  {
   "cell_type": "markdown",
   "id": "236d5183-73a5-479d-9f6f-92819b5e09ce",
   "metadata": {},
   "source": [
    "# Prepare Train-Test Data"
   ]
  },
  {
   "cell_type": "markdown",
   "id": "ea1a4c4f-e707-422e-b354-40052cbf7ebe",
   "metadata": {},
   "source": [
    "### Create train-test split"
   ]
  },
  {
   "cell_type": "code",
   "execution_count": 13,
   "id": "629db616-8673-473b-9d90-4f2994da9a40",
   "metadata": {},
   "outputs": [],
   "source": [
    "# Combine df again\n",
    "df = pl.concat([ lf.select(pl.col(\"diagnosis\")).collect() , df.select(pl.exclude([\"diagnosis\"]))] , how=\"horizontal\")"
   ]
  },
  {
   "cell_type": "code",
   "execution_count": 14,
   "id": "7ba3c259-781c-427d-84d4-103f026d53c7",
   "metadata": {},
   "outputs": [],
   "source": [
    "# Split target out\n",
    "X = df.select(\n",
    "    pl.exclude([\"diagnosis\"])\n",
    ")\n",
    "y = df.select(pl.col(\"diagnosis\"))\n",
    "\n",
    "# Create train/test-split\n",
    "X_train, X_test, y_train, y_test = train_test_split(X, y ,test_size=0.33, random_state=42)\n",
    "\n",
    "# Convert Dataframes to Numpy Array\n",
    "X_train = X_train.to_numpy()\n",
    "X_test = X_test.to_numpy()\n",
    "y_train = y_train.to_numpy()\n",
    "y_test = y_test.to_numpy()"
   ]
  },
  {
   "cell_type": "markdown",
   "id": "7add2e94-b419-4a56-928b-ec88045d17b6",
   "metadata": {},
   "source": [
    "### Create reduced train-test split (based on correlation)"
   ]
  },
  {
   "cell_type": "code",
   "execution_count": 15,
   "id": "f73f76eb-46fa-4dbe-a395-9044ad2dbc90",
   "metadata": {},
   "outputs": [],
   "source": [
    "# these are the ones with correlation > 0.4 and <-0.4\n",
    "df_reduced = df.select(\n",
    "    pl.col(\"diagnosis\"),\n",
    "    pl.col(\"radius_mean\"),\n",
    "    pl.col(\"texture_mean\"),\n",
    "    pl.col(\"perimeter_mean\"),\n",
    "    pl.col(\"area_mean\"),\n",
    "    pl.col(\"compactness_mean\"),\n",
    "    pl.col(\"concavity_mean\"),\n",
    "    pl.col(\"concave points_mean\"),\n",
    "    pl.col(\"radius_se\"),\n",
    "    pl.col(\"perimeter_se\"),\n",
    "    pl.col(\"area_se\"),\n",
    "    pl.col(\"concave points_se\"),\n",
    "    pl.col(\"radius_worst\"),\n",
    "    pl.col(\"texture_worst\"),\n",
    "    pl.col(\"perimeter_worst\"),\n",
    "    pl.col(\"area_worst\"),\n",
    "    pl.col(\"smoothness_worst\"),\n",
    "    pl.col(\"compactness_worst\"),\n",
    "    pl.col(\"concavity_worst\"),\n",
    "    pl.col(\"concave points_worst\"),\n",
    "    pl.col(\"symmetry_worst\"),\n",
    "    pl.col(\"fractal_dimension_worst\"),\n",
    ")"
   ]
  },
  {
   "cell_type": "markdown",
   "id": "3a2e1f51-a548-4c56-8e88-462105b41bb3",
   "metadata": {},
   "source": [
    "### Create reduced train-test split (based on multi-colinearity)"
   ]
  },
  {
   "cell_type": "raw",
   "id": "0ac096f4-6f9c-4725-84bd-7be1350749a1",
   "metadata": {},
   "source": [
    "Split these out\n",
    "\"\"\"\n",
    "radius_mean\n",
    "perimeter_mean\n",
    "area_mean\n",
    "\n",
    "radius_worst <<<<<< 0.78\n",
    "\n",
    "perimeter_worst <<<<<< 0.78\n",
    "area_worst\n",
    "\n",
    "\n",
    "And these three also have some form of a relationship:\n",
    "perimeter_se\n",
    "area_se\n",
    "radius_se\n",
    "\"\"\""
   ]
  },
  {
   "cell_type": "code",
   "execution_count": 16,
   "id": "e172e738-e8a6-44ea-998b-bcbae7c6b020",
   "metadata": {},
   "outputs": [],
   "source": [
    "df_reduced_multi_col = df.select(\n",
    "    pl.col(\"diagnosis\"),\n",
    "    pl.col(\"texture_mean\"),\n",
    "    pl.col(\"compactness_mean\"),\n",
    "    pl.col(\"concavity_mean\"),\n",
    "    pl.col(\"concave points_mean\"),\n",
    "    pl.col(\"radius_se\"),\n",
    "    pl.col(\"concave points_se\"),\n",
    "    pl.col(\"radius_worst\"),\n",
    "    pl.col(\"texture_worst\"),\n",
    "    pl.col(\"perimeter_worst\"),\n",
    "    pl.col(\"smoothness_worst\"),\n",
    "    pl.col(\"compactness_worst\"),\n",
    "    pl.col(\"concavity_worst\"),\n",
    "    pl.col(\"concave points_worst\"),\n",
    "    pl.col(\"symmetry_worst\"),\n",
    "    pl.col(\"fractal_dimension_worst\"),\n",
    ")"
   ]
  },
  {
   "cell_type": "markdown",
   "id": "2db724dd-bfb4-40b9-a7b1-3f4425543431",
   "metadata": {},
   "source": [
    "# Create Baseline Models"
   ]
  },
  {
   "cell_type": "markdown",
   "id": "9417b69b-7296-4bfd-a9da-022dd32a042c",
   "metadata": {},
   "source": [
    "### K-Nearest Neighbor"
   ]
  },
  {
   "cell_type": "raw",
   "id": "2ae1d252-3853-40ac-b779-af60cda51959",
   "metadata": {},
   "source": [
    "# Initialize Classifier wiht k=3 neighbors\n",
    "neigh = KNeighborsClassifier(n_neighbors=3)\n",
    "    \n",
    "# Train the model\n",
    "neigh.fit(X_train, y_train)\n",
    "    \n",
    "# Make predictions\n",
    "y_pred = neigh.predict(X_test)\n",
    "    \n",
    "# Calculate accuracy score based on output predictions\n",
    "knn_accuracy = accuracy_score(y_test, y_pred)\n",
    "print(\"K-Nearest Neighbor basline accuracy is: \" , knn_accuracy)"
   ]
  },
  {
   "cell_type": "markdown",
   "id": "7bb0f09b-230e-46c4-923b-7f043ea2ca1c",
   "metadata": {},
   "source": [
    "### Naive Bayes"
   ]
  },
  {
   "cell_type": "raw",
   "id": "57abab54-c6fa-4275-a1fa-da383ae75049",
   "metadata": {},
   "source": [
    "# Initialize the Gaussian Naives Bayes\n",
    "gnb = GaussianNB()\n",
    "\n",
    "# Train the model\n",
    "gnb.fit(X_train , y_train)\n",
    "\n",
    "# Make prediction\n",
    "y_pred = gnb.predict(X_test)\n",
    "\n",
    "# Calculate accuracy score based on output predictions\n",
    "gnb_accuracy = accuracy_score(y_test, y_pred)\n",
    "print(\"K-Nearest Neighbor basline accuracy is: \" , gnb_accuracy)"
   ]
  },
  {
   "cell_type": "markdown",
   "id": "d9979b53-2174-4fc6-aeda-7bdd27ac8f2e",
   "metadata": {},
   "source": [
    "### Support Vector Machines"
   ]
  },
  {
   "cell_type": "raw",
   "id": "650b558a-bdce-45b9-bc53-1ca7b51ac66e",
   "metadata": {},
   "source": [
    "# Initialize the Support vector machine\n",
    "clf = svm.SVC()\n",
    "\n",
    "# Train the model\n",
    "clf.fit(X_train , y_train)\n",
    "\n",
    "# Make prediction\n",
    "y_pred = clf.predict(X_test)\n",
    "\n",
    "# Calculate accuracy score based on output predictions\n",
    "svm_accuracy = accuracy_score(y_test, y_pred)\n",
    "print(\"K-Nearest Neighbor basline accuracy is: \" , svm_accuracy)"
   ]
  },
  {
   "cell_type": "markdown",
   "id": "a8398bbb-c725-44e7-b9ff-ab35f6a0812a",
   "metadata": {},
   "source": [
    "### Decision Tree"
   ]
  },
  {
   "cell_type": "raw",
   "id": "235ccc2c-cc0c-4843-a7cd-3d2548476850",
   "metadata": {},
   "source": [
    "# Initialize the Decision tree Classifier\n",
    "tree_clf = DecisionTreeClassifier(random_state=42)\n",
    "\n",
    "# Train the model\n",
    "tree_clf.fit(X_train, y_train)\n",
    "\n",
    "# Make prediction\n",
    "y_pred = tree_clf.predict(X_test)\n",
    "\n",
    "# Calculate accuracy score based on output predictions\n",
    "dtc_accuracy = accuracy_score(y_test, y_pred)\n",
    "print(\"Decision Tree baseline accuracy is:\", dtc_accuracy)"
   ]
  },
  {
   "cell_type": "markdown",
   "id": "332affd2-25e5-4996-9d15-5c0377ccb95c",
   "metadata": {},
   "source": [
    "### One big run"
   ]
  },
  {
   "cell_type": "raw",
   "id": "500fc9bf-1440-406e-98dd-32891d118ea2",
   "metadata": {},
   "source": [
    "mlflow.set_experiment(\"Breast Cancer Classification\")\n",
    "with mlflow.start_run(run_name=\"Baseline Models\"):\n",
    "\n",
    "    # Log a tag as explanation\n",
    "    mlflow.set_tag(\"Training info\" , \"Baseline Model, standardized data\")\n",
    "    model_signature= infer_signature(X_train , y_pred)\n",
    "\n",
    "    \n",
    "    # KNB\n",
    "    # Log model parameters and result\n",
    "    mlflow.log_param(\"knn_parameters\" , neigh.get_params())\n",
    "    mlflow.log_metric(\"knn_accuracy\" , knn_accuracy)\n",
    "    # Log the trained model\n",
    "    mlflow.sklearn.log_model(neigh , registered_model_name=\"K-Nearest Neighbor Model\" , artifact_path=\"sklearn-model1\"  ,signature=model_signature)\n",
    "\n",
    "\n",
    "    # GNB\n",
    "    # Log model parameters and result\n",
    "    mlflow.log_param(\"gnb_parameters\" , gnb.get_params())\n",
    "    mlflow.log_metric(\"gnb_accuracy\" , gnb_accuracy)\n",
    "    # Log the trained model\n",
    "    mlflow.sklearn.log_model(gnb , registered_model_name=\"Gaussian Naivey Bayes Model\" , artifact_path=\"sklearn-model2\", signature=model_signature)\n",
    "\n",
    "\n",
    "    #SVC\n",
    "    # Log model parameters and result\n",
    "    mlflow.log_param(\"svc_parameters\" , clf.get_params())\n",
    "    mlflow.log_metric(\"svc_accuracy\" , svm_accuracy)\n",
    "    # Log the trained model\n",
    "    mlflow.sklearn.log_model(clf , registered_model_name=\"C-Support Vector Machine Classifier\", artifact_path=\"sklearn-model3\" , signature=model_signature)\n",
    "\n",
    "\n",
    "    # DTC\n",
    "    # Log model parameters and result\n",
    "    mlflow.log_param(\"dtc_parameters\" , tree_clf.get_params())\n",
    "    mlflow.log_metric(\"dtc_accuracy\" , dtc_accuracy)\n",
    "    # Log the trained model\n",
    "    mlflow.sklearn.log_model(tree_clf , registered_model_name=\"Decision Tree Classifier\", artifact_path=\"sklearn-model4\" , signature=model_signature)\n",
    "    \n",
    "    mlflow.end_run()\n",
    "    print(\"Run ended\")"
   ]
  },
  {
   "cell_type": "markdown",
   "id": "ae58ccf2-5999-4437-975b-2c5abee59188",
   "metadata": {},
   "source": [
    "# Grid Search"
   ]
  },
  {
   "cell_type": "markdown",
   "id": "22750c09-8781-4801-a69e-3af7fe580c65",
   "metadata": {},
   "source": [
    "### KNN"
   ]
  },
  {
   "cell_type": "raw",
   "id": "1d69e9fb-8499-4102-9134-4a5cee941763",
   "metadata": {},
   "source": [
    "# Define hyperparameter grid for KNN\n",
    "#, \"p\":[1,2,3]\n",
    "knn_param_grid = {\"algorithm\":[\"brute\", \"ball_tree\" ,\"kd_tree\"],\n",
    "                  \"leaf_size\" : [30 , 20 ,10 ,40 ,50 ,60 , 70 ,80 ,90 ,10],\n",
    "                  \"metric\" : [\"minkowski\"],\n",
    "                  \"metric_params\" : [None],\n",
    "                  \"n_jobs\" : [None],\n",
    "                  \"n_neighbors\": [1,2,3, 5, 7, 9, 11, 15],\n",
    "                  \"p\":[1,2,3 ,4 ,5 ,6],\n",
    "                  \"weights\": ['uniform' , 'distance']\n",
    "                 }\n",
    "\n",
    "# Initialize KNN model\n",
    "knn_grid = KNeighborsClassifier()\n",
    "\n",
    "# Perform Grid Search with 5-fold cross-validation\n",
    "knn_grid_search = GridSearchCV(knn_grid, knn_param_grid, cv=5, scoring=\"accuracy\", n_jobs=-1)\n",
    "knn_grid_search.fit(X_train, y_train.ravel())  # Train the model\n",
    "\n",
    "# Get the best model and parameters\n",
    "knn_best_knn = knn_grid_search.best_estimator_\n",
    "knn_best_params = knn_grid_search.best_params_\n",
    "knn_best_accuracy = knn_grid_search.best_score_\n",
    "\n",
    "\n",
    "print(f\"Best KNN Parameters: {knn_best_params}\")\n",
    "print(f\"Best Cross-Validation Accuracy: {knn_best_accuracy:.4f}\")"
   ]
  },
  {
   "cell_type": "markdown",
   "id": "459627c2-44e9-4664-a1c8-12d57fd04efc",
   "metadata": {},
   "source": [
    "### Gaussian Naive Bayes"
   ]
  },
  {
   "cell_type": "raw",
   "id": "95ebe2dc-34cb-4217-b13d-df04bb82005b",
   "metadata": {},
   "source": [
    "gnb_param_grid = {\n",
    "    \"priors\" : [None],\n",
    "    \"var_smoothing\": [1e-9, 1e-8, 1e-7, 1e-6]\n",
    "}\n",
    "\n",
    "gnb_grid = GaussianNB()\n",
    "gnb_grid_search = GridSearchCV(gnb_grid, gnb_param_grid, cv=5, scoring=\"accuracy\", n_jobs=-1)\n",
    "gnb_grid_search.fit(X_train, y_train.ravel())\n",
    "\n",
    "gnb_best_nb = gnb_grid_search.best_estimator_\n",
    "gnb_best_params = gnb_grid_search.best_params_\n",
    "gnb_best_accuracy = gnb_grid_search.best_score_\n",
    "\n",
    "print(f\"Best Naive Bayes Parameters: {gnb_best_params}\")\n",
    "print(f\"Best Cross-Validation Accuracy: {gnb_best_accuracy:.4f}\")"
   ]
  },
  {
   "cell_type": "markdown",
   "id": "7bce01bf-b61c-48af-b976-0af59e5480e4",
   "metadata": {},
   "source": [
    "### Support Vector Machine"
   ]
  },
  {
   "cell_type": "raw",
   "id": "32d6af4e-4e6a-4086-a154-2f5e5324c642",
   "metadata": {},
   "source": [
    "svm_param_grid = {\n",
    "    \"C\": [0.1,0.3, 0.5 ,0.7, 1, 10 , 100],\n",
    "    'break_ties' : [False, True],\n",
    "    'cache_size' : [200],\n",
    "    \"class_weight\" : [None],\n",
    "    \"coef0\" : [0.0 , 0.1 , 0.2 , 0.3 , 0.4 ,0.5 ,0.6, 0.7],\n",
    "    \"decision_function_shape\" : [\"ovo\" , \"ovr\"],\n",
    "    \"degree\" : [1,2,3,4,5,6],\n",
    "    \"gamma\" : [\"scale\" , \"auto\"],\n",
    "    \"kernel\": [\"linear\", \"rbf\", \"poly\" , \"sigmoid\"],\n",
    "    \"max_iter\" : [-1],\n",
    "    \"probability\" : [False, True],\n",
    "    \"random_state\" : [None],\n",
    "    \"shrinking\" : [False, True],\n",
    "    \"tol\": [0.001],\n",
    "    \"verbose\": [False]\n",
    "}\n",
    "\n",
    "grid_svm_clf = svm.SVC()\n",
    "svm_grid_search = GridSearchCV(grid_svm_clf, svm_param_grid, cv=5, scoring=\"accuracy\", n_jobs=-1)\n",
    "svm_grid_search.fit(X_train, y_train.ravel())\n",
    "\n",
    "svm_best_svm = svm_grid_search.best_estimator_\n",
    "svm_best_params = svm_grid_search.best_params_\n",
    "svm_best_accuracy = svm_grid_search.best_score_\n",
    "\n",
    "print(f\"Best Decision Tree Parameters: {svm_best_params}\")\n",
    "print(f\"Best Cross-Validation Accuracy: {svm_best_accuracy:.4f}\")"
   ]
  },
  {
   "cell_type": "markdown",
   "id": "f0f0d865-4b47-4552-8a60-21db4d627096",
   "metadata": {},
   "source": [
    "### Decision Tree Classifier"
   ]
  },
  {
   "cell_type": "raw",
   "id": "e851ca18-b8b9-40c5-804f-5398036ae490",
   "metadata": {},
   "source": [
    "dtc_param_grid = {\n",
    "    \"ccp_alpha\": [0.0],\n",
    "    \"class_weight\": [None],\n",
    "    \"criterion\": [\"gini\" , \"entropy\" , \"log_loss\"],\n",
    "    \"max_depth\" : [None , 1, 2, 3, 4, 5, 6 ,7 ,8 ,9 ,10 ],\n",
    "    \"max_features\": [None],\n",
    "    \"max_leaf_nodes\": [None],\n",
    "    \"min_impurity_decrease\": [0.0],\n",
    "    \"min_samples_leaf\" : [1 ,2 ,3 ,4, 5,],\n",
    "    \"min_samples_split\" : [2 , 3 , 4 , 5 , 6, 7, 8, 9, 10],\n",
    "    \"min_weight_fraction_leaf\" : [0.0 , 0.1 , 0.2 , 0.3 , 0.4 , 0.5],\n",
    "    \"monotonic_cst\": [None],\n",
    "    \"random_state\" : [42 , 50 , 60 , 20 ,15 , 30 ,70],\n",
    "    \"splitter\" : [\"best\" , \"random\"]\n",
    "}\n",
    "\n",
    "tree_grid = DecisionTreeClassifier(random_state=42)\n",
    "tree_grid_search = GridSearchCV(tree_grid, dtc_param_grid, cv=5, scoring=\"accuracy\", n_jobs=-1)\n",
    "tree_grid_search.fit(X_train, y_train.ravel())\n",
    "\n",
    "grid_best_tree = tree_grid_search.best_estimator_\n",
    "tree_grid_best_params = tree_grid_search.best_params_\n",
    "tree_grid_best_accuracy = tree_grid_search.best_score_\n",
    "\n",
    "print(f\"Best Decision Tree Parameters: {tree_grid_best_params}\")\n",
    "print(f\"Best Cross-Validation Accuracy: {tree_grid_best_accuracy:.4f}\")"
   ]
  },
  {
   "cell_type": "raw",
   "id": "ae144153-d08b-4bdf-b589-3eb739164b75",
   "metadata": {},
   "source": [
    "mlflow.set_experiment(\"Breast Cancer Classification\")\n",
    "with mlflow.start_run(run_name=\"Grid Search enhanced Models\"):\n",
    "\n",
    "    # Log a tag as explanation\n",
    "    mlflow.set_tag(\"Training info\" , \"Grid Search enhanced Models, standardized data\")\n",
    "    # Model signature\n",
    "    model_signature= infer_signature(X_train , y_pred)\n",
    "\n",
    "    \n",
    "    \n",
    "    # KNB\n",
    "    # Log model parameters and result\n",
    "    mlflow.log_param(\"knn_parameters\" , knn_best_params)\n",
    "    mlflow.log_metric(\"knn_accuracy\" , knn_best_accuracy)\n",
    "    # Log the trained model\n",
    "    mlflow.sklearn.log_model(knn_grid , registered_model_name=\"K-Nearest Neighbor Model\" , artifact_path=\"sklearn-model1_1\"  ,signature=model_signature)\n",
    "\n",
    "\n",
    "    # GNB\n",
    "    # Log model parameters and result\n",
    "    mlflow.log_param(\"gnb_parameters\" , gnb_best_params)\n",
    "    mlflow.log_metric(\"gnb_accuracy\" , gnb_best_accuracy)\n",
    "    # Log the trained model\n",
    "    mlflow.sklearn.log_model(gnb_grid , registered_model_name=\"Gaussian Naive Bayes Model\" , artifact_path=\"sklearn-model2_1\", signature=model_signature)\n",
    "\n",
    "    \n",
    "    #SVC\n",
    "    # Log model parameters and result\n",
    "    mlflow.log_param(\"svc_parameters\" , svm_best_params)\n",
    "    mlflow.log_metric(\"svc_accuracy\" , svm_best_accuracy)\n",
    "    # Log the trained model\n",
    "    mlflow.sklearn.log_model(grid_svm_clf , registered_model_name=\"C-Support Vector Machine Classifier\", artifact_path=\"sklearn-model3_1\" , signature=model_signature)\n",
    "\n",
    "    \n",
    "    # DTC\n",
    "    # Log model parameters and result\n",
    "    mlflow.log_param(\"dtc_parameters\" , tree_grid_best_params)\n",
    "    mlflow.log_metric(\"dtc_accuracy\" , tree_grid_best_accuracy)\n",
    "    # Log the trained model\n",
    "    mlflow.sklearn.log_model(tree_grid , registered_model_name=\"Decision Tree Classifier\", artifact_path=\"sklearn-model4_4\" , signature=model_signature)\n",
    "\n",
    "\n",
    "\n",
    "    \n",
    "    mlflow.end_run()\n",
    "    print(\"Run ended\")"
   ]
  },
  {
   "cell_type": "markdown",
   "id": "9694c2c0-cf67-4971-a389-78187212b479",
   "metadata": {},
   "source": [
    "# Additional Data Cleaning"
   ]
  },
  {
   "cell_type": "markdown",
   "id": "45bb1955-5e25-4c8d-a6e7-4fb53eee5c5d",
   "metadata": {},
   "source": [
    "### Training on Reduced dataframe"
   ]
  },
  {
   "cell_type": "code",
   "execution_count": 17,
   "id": "19fc2920-4256-4e8f-a9c1-064831bcd927",
   "metadata": {},
   "outputs": [],
   "source": [
    "# Split target out\n",
    "X_red = df_reduced.select(\n",
    "    pl.exclude([\"diagnosis\"])\n",
    ")\n",
    "y_red = df_reduced.select(pl.col(\"diagnosis\"))\n",
    "\n",
    "# Create train/test-split\n",
    "X_train_red, X_test_red, y_train_red, y_test_red = train_test_split(X_red, y_red ,test_size=0.33, random_state=42)\n",
    "\n",
    "# Convert Dataframes to Numpy Array\n",
    "X_train_red = X_train_red.to_numpy()\n",
    "X_test_red = X_test_red.to_numpy()\n",
    "y_train_red = y_train_red.to_numpy()\n",
    "y_test_red = y_test_red.to_numpy()"
   ]
  },
  {
   "cell_type": "markdown",
   "id": "76d2efc5-7db9-4a43-ae2c-c25bb8c85ee8",
   "metadata": {},
   "source": [
    "KNN"
   ]
  },
  {
   "cell_type": "code",
   "execution_count": 18,
   "id": "ecfc6038-e2fb-4b31-a457-aa5bcdfc775c",
   "metadata": {},
   "outputs": [
    {
     "name": "stdout",
     "output_type": "stream",
     "text": [
      "K-Nearest Neighbor basline accuracy is:  0.9574468085106383\n"
     ]
    },
    {
     "name": "stderr",
     "output_type": "stream",
     "text": [
      "C:\\Users\\Jan\\anaconda3\\envs\\iu_model_engineering\\lib\\site-packages\\sklearn\\neighbors\\_classification.py:239: DataConversionWarning: A column-vector y was passed when a 1d array was expected. Please change the shape of y to (n_samples,), for example using ravel().\n",
      "  return self._fit(X, y)\n"
     ]
    }
   ],
   "source": [
    "# Initialize Classifier wiht k=3 neighbors\n",
    "neigh_red = KNeighborsClassifier(n_neighbors=3)\n",
    "    \n",
    "# Train the model\n",
    "neigh_red.fit(X_train_red, y_train_red)\n",
    "    \n",
    "# Make predictions\n",
    "y_pred_red = neigh_red.predict(X_test_red)\n",
    "    \n",
    "# Calculate accuracy score based on output predictions\n",
    "knn_accuracy_red = accuracy_score(y_test_red, y_pred_red)\n",
    "print(\"K-Nearest Neighbor basline accuracy is: \" , knn_accuracy_red)"
   ]
  },
  {
   "cell_type": "markdown",
   "id": "bc947b25-a8f6-49d9-be09-e447840af053",
   "metadata": {},
   "source": [
    "Naive Bayes"
   ]
  },
  {
   "cell_type": "code",
   "execution_count": 19,
   "id": "27f582ac-d9c3-4661-bf08-284895a0f3c6",
   "metadata": {},
   "outputs": [
    {
     "name": "stdout",
     "output_type": "stream",
     "text": [
      "K-Nearest Neighbor basline accuracy is:  0.9361702127659575\n"
     ]
    },
    {
     "name": "stderr",
     "output_type": "stream",
     "text": [
      "C:\\Users\\Jan\\anaconda3\\envs\\iu_model_engineering\\lib\\site-packages\\sklearn\\utils\\validation.py:1408: DataConversionWarning: A column-vector y was passed when a 1d array was expected. Please change the shape of y to (n_samples, ), for example using ravel().\n",
      "  y = column_or_1d(y, warn=True)\n"
     ]
    }
   ],
   "source": [
    "# Initialize the Gaussian Naives Bayes\n",
    "gnb_red = GaussianNB()\n",
    "\n",
    "# Train the model\n",
    "gnb_red.fit(X_train_red , y_train_red)\n",
    "\n",
    "# Make prediction\n",
    "y_pred_red = gnb_red.predict(X_test_red)\n",
    "\n",
    "# Calculate accuracy score based on output predictions\n",
    "gnb_accuracy_red = accuracy_score(y_test_red, y_pred_red)\n",
    "print(\"K-Nearest Neighbor basline accuracy is: \" , gnb_accuracy_red)"
   ]
  },
  {
   "cell_type": "markdown",
   "id": "39e1d2b7-22fb-4bcf-89f8-c94f5c20cea2",
   "metadata": {},
   "source": [
    "Support Vector Machine"
   ]
  },
  {
   "cell_type": "code",
   "execution_count": 20,
   "id": "30844394-e27d-4944-9e34-fbb2553a55a3",
   "metadata": {},
   "outputs": [
    {
     "name": "stdout",
     "output_type": "stream",
     "text": [
      "K-Nearest Neighbor basline accuracy is:  0.973404255319149\n"
     ]
    },
    {
     "name": "stderr",
     "output_type": "stream",
     "text": [
      "C:\\Users\\Jan\\anaconda3\\envs\\iu_model_engineering\\lib\\site-packages\\sklearn\\utils\\validation.py:1408: DataConversionWarning: A column-vector y was passed when a 1d array was expected. Please change the shape of y to (n_samples, ), for example using ravel().\n",
      "  y = column_or_1d(y, warn=True)\n"
     ]
    }
   ],
   "source": [
    "# Initialize the Support vector machine\n",
    "clf_red = svm.SVC()\n",
    "\n",
    "# Train the model\n",
    "clf_red.fit(X_train_red , y_train_red)\n",
    "\n",
    "# Make prediction\n",
    "y_pred_red = clf_red.predict(X_test_red)\n",
    "\n",
    "# Calculate accuracy score based on output predictions\n",
    "svm_accuracy_red = accuracy_score(y_test_red, y_pred_red)\n",
    "print(\"K-Nearest Neighbor basline accuracy is: \" , svm_accuracy_red)"
   ]
  },
  {
   "cell_type": "markdown",
   "id": "5d38d181-4d9d-437e-918f-901b4b6df4cf",
   "metadata": {},
   "source": [
    "Decision Tree Classifier"
   ]
  },
  {
   "cell_type": "code",
   "execution_count": 21,
   "id": "87cfcd53-4743-4b5d-8103-04360e366878",
   "metadata": {},
   "outputs": [
    {
     "name": "stdout",
     "output_type": "stream",
     "text": [
      "Decision Tree baseline accuracy is: 0.925531914893617\n"
     ]
    }
   ],
   "source": [
    "# Initialize the Decision tree Classifier\n",
    "tree_clf_red = DecisionTreeClassifier(random_state=42)\n",
    "\n",
    "# Train the model\n",
    "tree_clf_red.fit(X_train_red, y_train_red)\n",
    "\n",
    "# Make prediction\n",
    "y_pred_red = tree_clf_red.predict(X_test_red)\n",
    "\n",
    "# Calculate accuracy score based on output predictions\n",
    "dtc_accuracy_red = accuracy_score(y_test_red, y_pred_red)\n",
    "print(\"Decision Tree baseline accuracy is:\", dtc_accuracy_red)"
   ]
  },
  {
   "cell_type": "markdown",
   "id": "e18c30f6-2b1e-4b4f-ac15-c12dfda265c1",
   "metadata": {},
   "source": [
    "MLflow logging"
   ]
  },
  {
   "cell_type": "code",
   "execution_count": 22,
   "id": "66c86aae-cd04-4f52-bd57-e5cb71d0f51c",
   "metadata": {},
   "outputs": [
    {
     "name": "stderr",
     "output_type": "stream",
     "text": [
      "Registered model 'K-Nearest Neighbor Model' already exists. Creating a new version of this model...\n",
      "Created version '5' of model 'K-Nearest Neighbor Model'.\n",
      "Registered model 'Gaussian Naivey Bayes Model' already exists. Creating a new version of this model...\n",
      "Created version '4' of model 'Gaussian Naivey Bayes Model'.\n",
      "Registered model 'C-Support Vector Machine Classifier' already exists. Creating a new version of this model...\n",
      "Created version '4' of model 'C-Support Vector Machine Classifier'.\n"
     ]
    },
    {
     "name": "stdout",
     "output_type": "stream",
     "text": [
      "Run ended\n"
     ]
    },
    {
     "name": "stderr",
     "output_type": "stream",
     "text": [
      "Registered model 'Decision Tree Classifier' already exists. Creating a new version of this model...\n",
      "Created version '4' of model 'Decision Tree Classifier'.\n"
     ]
    }
   ],
   "source": [
    "mlflow.set_experiment(\"Breast Cancer Classification\")\n",
    "with mlflow.start_run(run_name=\"Baseline Models Reduced Dataset\"):\n",
    "\n",
    "    # Log a tag as explanation\n",
    "    mlflow.set_tag(\"Training info\" , \"Baseline Model, standardized data, reduced dimensionality\")\n",
    "    model_signature_red= infer_signature(X_train_red , y_pred_red)\n",
    "\n",
    "    \n",
    "    # KNB\n",
    "    # Log model parameters and result\n",
    "    mlflow.log_param(\"knn_parameters\" , neigh_red.get_params())\n",
    "    mlflow.log_metric(\"knn_accuracy\" , knn_accuracy_red)\n",
    "    # Log the trained model\n",
    "    mlflow.sklearn.log_model(neigh_red , registered_model_name=\"K-Nearest Neighbor Model\" , artifact_path=\"sklearn-model1_3\"  ,signature=model_signature_red)\n",
    "\n",
    "\n",
    "    # GNB\n",
    "    # Log model parameters and result\n",
    "    mlflow.log_param(\"gnb_parameters\" , gnb_red.get_params())\n",
    "    mlflow.log_metric(\"gnb_accuracy\" , gnb_accuracy_red)\n",
    "    # Log the trained model\n",
    "    mlflow.sklearn.log_model(gnb_red , registered_model_name=\"Gaussian Naivey Bayes Model\" , artifact_path=\"sklearn-model2_3\", signature=model_signature_red)\n",
    "\n",
    "\n",
    "    #SVC\n",
    "    # Log model parameters and result\n",
    "    mlflow.log_param(\"svc_parameters\" , clf_red.get_params())\n",
    "    mlflow.log_metric(\"svc_accuracy\" , svm_accuracy_red)\n",
    "    # Log the trained model\n",
    "    mlflow.sklearn.log_model(clf_red , registered_model_name=\"C-Support Vector Machine Classifier\", artifact_path=\"sklearn-model3_3\" , signature=model_signature_red)\n",
    "\n",
    "\n",
    "    # DTC\n",
    "    # Log model parameters and result\n",
    "    mlflow.log_param(\"dtc_parameters\" , tree_clf_red.get_params())\n",
    "    mlflow.log_metric(\"dtc_accuracy\" , dtc_accuracy_red)\n",
    "    # Log the trained model\n",
    "    mlflow.sklearn.log_model(tree_clf_red , registered_model_name=\"Decision Tree Classifier\", artifact_path=\"sklearn-model4_3\" , signature=model_signature_red)\n",
    "    \n",
    "    mlflow.end_run()\n",
    "    print(\"Run ended\")"
   ]
  },
  {
   "cell_type": "markdown",
   "id": "08ae7fb2-727a-47df-9afc-fae6ac525938",
   "metadata": {},
   "source": [
    "### Training on Reduced (multicoliniearity) dataframe"
   ]
  },
  {
   "cell_type": "code",
   "execution_count": 23,
   "id": "c37f6605-4055-457f-964d-1fbdd2de80d6",
   "metadata": {},
   "outputs": [],
   "source": [
    "# Split target out\n",
    "X_red_multi = df_reduced_multi_col.select(\n",
    "    pl.exclude([\"diagnosis\"])\n",
    ")\n",
    "y_red_multi = df_reduced_multi_col.select(pl.col(\"diagnosis\"))\n",
    "\n",
    "# Create train/test-split\n",
    "X_train_red_multi, X_test_red_multi, y_train_red_multi, y_test_red_multi = train_test_split(X_red_multi, y_red_multi ,test_size=0.33, random_state=42)\n",
    "\n",
    "# Convert Dataframes to Numpy Array\n",
    "X_train_red_multi = X_train_red_multi.to_numpy()\n",
    "X_test_red_multi = X_test_red_multi.to_numpy()\n",
    "y_train_red_multi = y_train_red_multi.to_numpy()\n",
    "y_test_red_multi = y_test_red_multi.to_numpy()"
   ]
  },
  {
   "cell_type": "markdown",
   "id": "0b6c5166-fa95-4c64-8155-6d09b7c99fa9",
   "metadata": {},
   "source": [
    "KNN"
   ]
  },
  {
   "cell_type": "code",
   "execution_count": 24,
   "id": "c06024ef-91a5-4f14-9234-8d35194d8705",
   "metadata": {},
   "outputs": [
    {
     "name": "stdout",
     "output_type": "stream",
     "text": [
      "K-Nearest Neighbor basline accuracy is:  0.9574468085106383\n"
     ]
    },
    {
     "name": "stderr",
     "output_type": "stream",
     "text": [
      "C:\\Users\\Jan\\anaconda3\\envs\\iu_model_engineering\\lib\\site-packages\\sklearn\\neighbors\\_classification.py:239: DataConversionWarning: A column-vector y was passed when a 1d array was expected. Please change the shape of y to (n_samples,), for example using ravel().\n",
      "  return self._fit(X, y)\n"
     ]
    }
   ],
   "source": [
    "# Initialize Classifier wiht k=3 neighbors\n",
    "neigh_red_multi = KNeighborsClassifier(n_neighbors=3)\n",
    "    \n",
    "# Train the model\n",
    "neigh_red_multi.fit(X_train_red_multi, y_train_red_multi)\n",
    "    \n",
    "# Make predictions\n",
    "y_pred_red_multi = neigh_red_multi.predict(X_test_red_multi)\n",
    "    \n",
    "# Calculate accuracy score based on output predictions\n",
    "knn_accuracy_red_multi = accuracy_score(y_test_red_multi, y_pred_red_multi)\n",
    "print(\"K-Nearest Neighbor basline accuracy is: \" , knn_accuracy_red_multi)"
   ]
  },
  {
   "cell_type": "markdown",
   "id": "22c4ffd6-1883-4d80-a775-4d84a7b7a313",
   "metadata": {},
   "source": [
    "Naive Bayes"
   ]
  },
  {
   "cell_type": "code",
   "execution_count": 25,
   "id": "576d3676-3f11-409a-9eb9-5f9dbf8f6b07",
   "metadata": {},
   "outputs": [
    {
     "name": "stdout",
     "output_type": "stream",
     "text": [
      "K-Nearest Neighbor basline accuracy is:  0.9148936170212766\n"
     ]
    },
    {
     "name": "stderr",
     "output_type": "stream",
     "text": [
      "C:\\Users\\Jan\\anaconda3\\envs\\iu_model_engineering\\lib\\site-packages\\sklearn\\utils\\validation.py:1408: DataConversionWarning: A column-vector y was passed when a 1d array was expected. Please change the shape of y to (n_samples, ), for example using ravel().\n",
      "  y = column_or_1d(y, warn=True)\n"
     ]
    }
   ],
   "source": [
    "# Initialize the Gaussian Naives Bayes\n",
    "gnb_red_multi = GaussianNB()\n",
    "\n",
    "# Train the model\n",
    "gnb_red_multi.fit(X_train_red_multi , y_train_red_multi)\n",
    "\n",
    "# Make prediction\n",
    "y_pred_red_multi = gnb_red_multi.predict(X_test_red_multi)\n",
    "\n",
    "# Calculate accuracy score based on output predictions\n",
    "gnb_accuracy_red_multi = accuracy_score(y_test_red_multi, y_pred_red_multi)\n",
    "print(\"K-Nearest Neighbor basline accuracy is: \" , gnb_accuracy_red_multi)"
   ]
  },
  {
   "cell_type": "markdown",
   "id": "63af1c47-f984-4f0c-a0d3-afeead7cac63",
   "metadata": {},
   "source": [
    "Support Vector Machine"
   ]
  },
  {
   "cell_type": "code",
   "execution_count": 26,
   "id": "39221215-e5b1-4943-9262-2d90be463768",
   "metadata": {},
   "outputs": [
    {
     "name": "stdout",
     "output_type": "stream",
     "text": [
      "K-Nearest Neighbor basline accuracy is:  0.9627659574468085\n"
     ]
    },
    {
     "name": "stderr",
     "output_type": "stream",
     "text": [
      "C:\\Users\\Jan\\anaconda3\\envs\\iu_model_engineering\\lib\\site-packages\\sklearn\\utils\\validation.py:1408: DataConversionWarning: A column-vector y was passed when a 1d array was expected. Please change the shape of y to (n_samples, ), for example using ravel().\n",
      "  y = column_or_1d(y, warn=True)\n"
     ]
    }
   ],
   "source": [
    "# Initialize the Support vector machine\n",
    "clf_red_multi = svm.SVC()\n",
    "\n",
    "# Train the model\n",
    "clf_red_multi.fit(X_train_red_multi , y_train_red_multi)\n",
    "\n",
    "# Make prediction\n",
    "y_pred_red_multi = clf_red_multi.predict(X_test_red_multi)\n",
    "\n",
    "# Calculate accuracy score based on output predictions\n",
    "svm_accuracy_red_multi = accuracy_score(y_test_red_multi, y_pred_red_multi)\n",
    "print(\"K-Nearest Neighbor basline accuracy is: \" , svm_accuracy_red_multi)"
   ]
  },
  {
   "cell_type": "markdown",
   "id": "3cee8611-f2db-4534-bc3a-89fbc4919d86",
   "metadata": {},
   "source": [
    "Decision Tree Classifier"
   ]
  },
  {
   "cell_type": "code",
   "execution_count": 27,
   "id": "43580da9-f569-44d9-ad5b-fb8aa4c809b3",
   "metadata": {},
   "outputs": [
    {
     "name": "stdout",
     "output_type": "stream",
     "text": [
      "Decision Tree baseline accuracy is: 0.9202127659574468\n"
     ]
    }
   ],
   "source": [
    "# Initialize the Decision tree Classifier\n",
    "tree_clf_red_multi = DecisionTreeClassifier(random_state=42)\n",
    "\n",
    "# Train the model\n",
    "tree_clf_red_multi.fit(X_train_red_multi, y_train_red_multi)\n",
    "\n",
    "# Make prediction\n",
    "y_pred_red_multi = tree_clf_red_multi.predict(X_test_red_multi)\n",
    "\n",
    "# Calculate accuracy score based on output predictions\n",
    "dtc_accuracy_red_multi = accuracy_score(y_test_red_multi, y_pred_red_multi)\n",
    "print(\"Decision Tree baseline accuracy is:\", dtc_accuracy_red_multi)"
   ]
  },
  {
   "cell_type": "markdown",
   "id": "f5c833ac-b18a-43f6-bd3b-efcdb49f68a8",
   "metadata": {},
   "source": [
    "MLflow Logging"
   ]
  },
  {
   "cell_type": "code",
   "execution_count": 28,
   "id": "4982ce83-97cc-4ca1-a702-d6a744fde804",
   "metadata": {},
   "outputs": [
    {
     "name": "stderr",
     "output_type": "stream",
     "text": [
      "Registered model 'K-Nearest Neighbor Model' already exists. Creating a new version of this model...\n",
      "Created version '6' of model 'K-Nearest Neighbor Model'.\n",
      "Registered model 'Gaussian Naivey Bayes Model' already exists. Creating a new version of this model...\n",
      "Created version '5' of model 'Gaussian Naivey Bayes Model'.\n",
      "Registered model 'C-Support Vector Machine Classifier' already exists. Creating a new version of this model...\n",
      "Created version '5' of model 'C-Support Vector Machine Classifier'.\n"
     ]
    },
    {
     "name": "stdout",
     "output_type": "stream",
     "text": [
      "Run ended\n"
     ]
    },
    {
     "name": "stderr",
     "output_type": "stream",
     "text": [
      "Registered model 'Decision Tree Classifier' already exists. Creating a new version of this model...\n",
      "Created version '5' of model 'Decision Tree Classifier'.\n"
     ]
    }
   ],
   "source": [
    "mlflow.set_experiment(\"Breast Cancer Classification\")\n",
    "with mlflow.start_run(run_name=\"Baseline Models Reduced Dataset (Multicolinearity)\"):\n",
    "\n",
    "    # Log a tag as explanation\n",
    "    mlflow.set_tag(\"Training info\" , \"Baseline Model, standardized data, reduced dimensionality considering multicolinearity\")\n",
    "    model_signature_red_multi= infer_signature(X_train_red_multi , y_pred_red_multi)\n",
    "\n",
    "    \n",
    "    # KNB\n",
    "    # Log model parameters and result\n",
    "    mlflow.log_param(\"knn_parameters\" , neigh_red_multi.get_params())\n",
    "    mlflow.log_metric(\"knn_accuracy\" , knn_accuracy_red_multi)\n",
    "    # Log the trained model\n",
    "    mlflow.sklearn.log_model(neigh_red_multi , registered_model_name=\"K-Nearest Neighbor Model\" , artifact_path=\"sklearn-model1_3\"  ,signature=model_signature_red_multi)\n",
    "\n",
    "\n",
    "    # GNB\n",
    "    # Log model parameters and result\n",
    "    mlflow.log_param(\"gnb_parameters\" , gnb_red_multi.get_params())\n",
    "    mlflow.log_metric(\"gnb_accuracy\" , gnb_accuracy_red_multi)\n",
    "    # Log the trained model\n",
    "    mlflow.sklearn.log_model(gnb_red_multi , registered_model_name=\"Gaussian Naivey Bayes Model\" , artifact_path=\"sklearn-model2_3\", signature=model_signature_red_multi)\n",
    "\n",
    "\n",
    "    #SVC\n",
    "    # Log model parameters and result\n",
    "    mlflow.log_param(\"svc_parameters\" , clf_red_multi.get_params())\n",
    "    mlflow.log_metric(\"svc_accuracy\" , svm_accuracy_red_multi)\n",
    "    # Log the trained model\n",
    "    mlflow.sklearn.log_model(clf_red_multi , registered_model_name=\"C-Support Vector Machine Classifier\", artifact_path=\"sklearn-model3_3\" , signature=model_signature_red_multi)\n",
    "\n",
    "\n",
    "    # DTC\n",
    "    # Log model parameters and result\n",
    "    mlflow.log_param(\"dtc_parameters\" , tree_clf_red_multi.get_params())\n",
    "    mlflow.log_metric(\"dtc_accuracy\" , dtc_accuracy_red_multi)\n",
    "    # Log the trained model\n",
    "    mlflow.sklearn.log_model(tree_clf_red_multi , registered_model_name=\"Decision Tree Classifier\", artifact_path=\"sklearn-model4_3\" , signature=model_signature_red_multi)\n",
    "    \n",
    "    mlflow.end_run()\n",
    "    print(\"Run ended\")"
   ]
  },
  {
   "cell_type": "code",
   "execution_count": null,
   "id": "49797cfc-a99c-44df-a0d9-bcb488ba50c9",
   "metadata": {},
   "outputs": [],
   "source": [
    "# GridSearchCV based on the reduced Data Set"
   ]
  }
 ],
 "metadata": {
  "kernelspec": {
   "display_name": "Python 3 (ipykernel)",
   "language": "python",
   "name": "python3"
  },
  "language_info": {
   "codemirror_mode": {
    "name": "ipython",
    "version": 3
   },
   "file_extension": ".py",
   "mimetype": "text/x-python",
   "name": "python",
   "nbconvert_exporter": "python",
   "pygments_lexer": "ipython3",
   "version": "3.10.16"
  }
 },
 "nbformat": 4,
 "nbformat_minor": 5
}
